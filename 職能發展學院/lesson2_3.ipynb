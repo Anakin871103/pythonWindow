{
 "cells": [
  {
   "cell_type": "code",
   "execution_count": 57,
   "id": "e4f1d3b3",
   "metadata": {},
   "outputs": [],
   "source": [
    "class Person:\n",
    "    def __init__(self,name,age):\n",
    "        self.name = name\n",
    "        self.age = age\n",
    "        \n",
    "    def exclaim(self):\n",
    "        print(self.name)\n",
    "        print(self.age)\n",
    "        \n",
    "class Student(Person):          \n",
    "    def __init__(self,name,age,chinese,english,math):\n",
    "        super().__init__(name,age)\n",
    "        self.chinese = chinese\n",
    "        self.english = english\n",
    "        self.math = math"
   ]
  },
  {
   "cell_type": "code",
   "execution_count": 53,
   "id": "d664c946",
   "metadata": {},
   "outputs": [],
   "source": [
    "p1 = Person(name=\"robert\",age=18)\n",
    "p1.__class__\n",
    "p2 = Person(name=\"john\",age=20)"
   ]
  },
  {
   "cell_type": "code",
   "execution_count": 54,
   "id": "2c644759",
   "metadata": {},
   "outputs": [
    {
     "name": "stdout",
     "output_type": "stream",
     "text": [
      "robert\n",
      "18\n"
     ]
    }
   ],
   "source": [
    "p1.exclaim()"
   ]
  },
  {
   "cell_type": "code",
   "execution_count": 55,
   "id": "0c43661f",
   "metadata": {},
   "outputs": [
    {
     "name": "stdout",
     "output_type": "stream",
     "text": [
      "john\n",
      "20\n"
     ]
    }
   ],
   "source": [
    "p2.exclaim()"
   ]
  },
  {
   "cell_type": "code",
   "execution_count": 58,
   "id": "808e3294",
   "metadata": {},
   "outputs": [
    {
     "name": "stdout",
     "output_type": "stream",
     "text": [
      "78\n",
      "92\n",
      "65\n"
     ]
    }
   ],
   "source": [
    "student3 = Student(name=\"學生3\",age=14,chinese=78,english=92,math=65)\n",
    "print(student3.chinese)\n",
    "print(student3.english)\n",
    "print(student3.math)"
   ]
  },
  {
   "cell_type": "code",
   "execution_count": null,
   "id": "401b1327",
   "metadata": {},
   "outputs": [],
   "source": []
  }
 ],
 "metadata": {
  "kernelspec": {
   "display_name": "Python 3 (ipykernel)",
   "language": "python",
   "name": "python3"
  },
  "language_info": {
   "codemirror_mode": {
    "name": "ipython",
    "version": 3
   },
   "file_extension": ".py",
   "mimetype": "text/x-python",
   "name": "python",
   "nbconvert_exporter": "python",
   "pygments_lexer": "ipython3",
   "version": "3.10.2"
  }
 },
 "nbformat": 4,
 "nbformat_minor": 5
}
