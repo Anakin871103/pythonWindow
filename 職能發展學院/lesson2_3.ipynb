{
 "cells": [
  {
   "cell_type": "code",
   "execution_count": 27,
   "id": "459a3dbb",
   "metadata": {},
   "outputs": [],
   "source": [
    "class Person:\n",
    "    def __init__(self,n,a):\n",
    "        self.name = n\n",
    "        self.age = a\n",
    "        \n",
    "    def exclaim(self):\n",
    "        print(self.name)\n",
    "        print(self.age)"
   ]
  },
  {
   "cell_type": "code",
   "execution_count": 28,
   "id": "34871faa",
   "metadata": {},
   "outputs": [],
   "source": [
    "p1 = Person(n=\"robert\",a=18)\n",
    "p1.__class__\n",
    "p2 = Person(n=\"john\",a=20)"
   ]
  },
  {
   "cell_type": "code",
   "execution_count": 29,
   "id": "5dec3cac",
   "metadata": {},
   "outputs": [
    {
     "name": "stdout",
     "output_type": "stream",
     "text": [
      "robert\n",
      "18\n"
     ]
    }
   ],
   "source": [
    "p1.exclaim()"
   ]
  },
  {
   "cell_type": "code",
   "execution_count": 30,
   "id": "820d018a",
   "metadata": {},
   "outputs": [
    {
     "name": "stdout",
     "output_type": "stream",
     "text": [
      "john\n",
      "20\n"
     ]
    }
   ],
   "source": [
    "p2.exclaim()"
   ]
  },
  {
   "cell_type": "code",
   "execution_count": null,
   "id": "1553d678",
   "metadata": {},
   "outputs": [],
   "source": []
  }
 ],
 "metadata": {
  "kernelspec": {
   "display_name": "Python 3 (ipykernel)",
   "language": "python",
   "name": "python3"
  },
  "language_info": {
   "codemirror_mode": {
    "name": "ipython",
    "version": 3
   },
   "file_extension": ".py",
   "mimetype": "text/x-python",
   "name": "python",
   "nbconvert_exporter": "python",
   "pygments_lexer": "ipython3",
   "version": "3.10.2"
  }
 },
 "nbformat": 4,
 "nbformat_minor": 5
}
