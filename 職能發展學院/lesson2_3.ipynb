{
 "cells": [
  {
   "cell_type": "code",
   "execution_count": 36,
   "id": "87ae30ac",
   "metadata": {},
   "outputs": [],
   "source": [
    "class Person:\n",
    "    def __init__(self,name,age):\n",
    "        self.name = name\n",
    "        self.age = age\n",
    "        \n",
    "    def exclaim(self):\n",
    "        print(self.name)\n",
    "        print(self.age)\n",
    "        \n",
    "class Student(Person):\n",
    "    pass"
   ]
  },
  {
   "cell_type": "code",
   "execution_count": 37,
   "id": "29567fb7",
   "metadata": {},
   "outputs": [],
   "source": [
    "p1 = Person(name=\"robert\",age=18)\n",
    "p1.__class__\n",
    "p2 = Person(name=\"john\",age=20)"
   ]
  },
  {
   "cell_type": "code",
   "execution_count": 38,
   "id": "ba8e9e44",
   "metadata": {},
   "outputs": [
    {
     "name": "stdout",
     "output_type": "stream",
     "text": [
      "robert\n",
      "18\n"
     ]
    }
   ],
   "source": [
    "p1.exclaim()"
   ]
  },
  {
   "cell_type": "code",
   "execution_count": 39,
   "id": "b534c0b6",
   "metadata": {},
   "outputs": [
    {
     "name": "stdout",
     "output_type": "stream",
     "text": [
      "john\n",
      "20\n"
     ]
    }
   ],
   "source": [
    "p2.exclaim()"
   ]
  },
  {
   "cell_type": "code",
   "execution_count": 40,
   "id": "d3c53d02",
   "metadata": {},
   "outputs": [
    {
     "name": "stdout",
     "output_type": "stream",
     "text": [
      "學生1\n",
      "16\n",
      "學生2\n",
      "18\n"
     ]
    }
   ],
   "source": [
    "student1 = Student(name=\"學生1\",age=16)\n",
    "student2 = Student(name=\"學生2\",age=18)\n",
    "student1.exclaim()\n",
    "student2.exclaim()"
   ]
  }
 ],
 "metadata": {
  "kernelspec": {
   "display_name": "Python 3 (ipykernel)",
   "language": "python",
   "name": "python3"
  },
  "language_info": {
   "codemirror_mode": {
    "name": "ipython",
    "version": 3
   },
   "file_extension": ".py",
   "mimetype": "text/x-python",
   "name": "python",
   "nbconvert_exporter": "python",
   "pygments_lexer": "ipython3",
   "version": "3.10.2"
  }
 },
 "nbformat": 4,
 "nbformat_minor": 5
}
