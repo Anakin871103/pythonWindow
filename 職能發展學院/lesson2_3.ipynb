{
 "cells": [
  {
   "cell_type": "code",
   "execution_count": 19,
   "id": "05b8e16d",
   "metadata": {},
   "outputs": [],
   "source": [
    "class Person:\n",
    "    def __init__(self,n,a):\n",
    "        self.name = n\n",
    "        self.age = a"
   ]
  },
  {
   "cell_type": "code",
   "execution_count": 20,
   "id": "f48c3778",
   "metadata": {},
   "outputs": [],
   "source": [
    "p1 = Person(n=\"robert\",a=18)\n",
    "p1.__class__\n",
    "p2 = Person(n=\"john\",a=20)"
   ]
  },
  {
   "cell_type": "code",
   "execution_count": 21,
   "id": "655c1e71",
   "metadata": {},
   "outputs": [
    {
     "name": "stdout",
     "output_type": "stream",
     "text": [
      "robert\n",
      "john\n"
     ]
    }
   ],
   "source": [
    "print(p1.name)\n",
    "print(p2.name)"
   ]
  },
  {
   "cell_type": "code",
   "execution_count": 22,
   "id": "00927cee",
   "metadata": {},
   "outputs": [
    {
     "name": "stdout",
     "output_type": "stream",
     "text": [
      "18\n",
      "20\n"
     ]
    }
   ],
   "source": [
    "print(p1.age)\n",
    "print(p2.age)"
   ]
  },
  {
   "cell_type": "code",
   "execution_count": null,
   "id": "c2089e1e",
   "metadata": {},
   "outputs": [],
   "source": []
  }
 ],
 "metadata": {
  "kernelspec": {
   "display_name": "Python 3 (ipykernel)",
   "language": "python",
   "name": "python3"
  },
  "language_info": {
   "codemirror_mode": {
    "name": "ipython",
    "version": 3
   },
   "file_extension": ".py",
   "mimetype": "text/x-python",
   "name": "python",
   "nbconvert_exporter": "python",
   "pygments_lexer": "ipython3",
   "version": "3.10.2"
  }
 },
 "nbformat": 4,
 "nbformat_minor": 5
}
