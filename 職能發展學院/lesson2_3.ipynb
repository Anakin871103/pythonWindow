{
 "cells": [
  {
   "cell_type": "code",
   "execution_count": 60,
   "id": "737dba1a",
   "metadata": {},
   "outputs": [],
   "source": [
    "class Person:\n",
    "    def __init__(self,name,age):\n",
    "        self.name = name\n",
    "        self.age = age\n",
    "        \n",
    "    def exclaim(self):\n",
    "        print(self.name)\n",
    "        print(self.age)\n",
    "        \n",
    "class Student(Person):          \n",
    "    def __init__(self,name,age,chinese=0,english=0,math=0):\n",
    "        super().__init__(name,age)\n",
    "        self.chinese = chinese\n",
    "        self.english = english\n",
    "        self.math = math"
   ]
  },
  {
   "cell_type": "code",
   "execution_count": 61,
   "id": "c98f62ac",
   "metadata": {},
   "outputs": [],
   "source": [
    "p1 = Person(name=\"robert\",age=18)\n",
    "p1.__class__\n",
    "p2 = Person(name=\"john\",age=20)"
   ]
  },
  {
   "cell_type": "code",
   "execution_count": 62,
   "id": "3f6b2d96",
   "metadata": {},
   "outputs": [
    {
     "name": "stdout",
     "output_type": "stream",
     "text": [
      "robert\n",
      "18\n"
     ]
    }
   ],
   "source": [
    "p1.exclaim()"
   ]
  },
  {
   "cell_type": "code",
   "execution_count": 63,
   "id": "599e52b8",
   "metadata": {},
   "outputs": [
    {
     "name": "stdout",
     "output_type": "stream",
     "text": [
      "john\n",
      "20\n"
     ]
    }
   ],
   "source": [
    "p2.exclaim()"
   ]
  },
  {
   "cell_type": "code",
   "execution_count": 64,
   "id": "159f43a4",
   "metadata": {},
   "outputs": [
    {
     "name": "stdout",
     "output_type": "stream",
     "text": [
      "0\n",
      "0\n",
      "0\n"
     ]
    }
   ],
   "source": [
    "student1 = Student(name=\"學生1\",age=14)\n",
    "print(student1.chinese)\n",
    "print(student1.english)\n",
    "print(student1.math)"
   ]
  },
  {
   "cell_type": "code",
   "execution_count": 65,
   "id": "02d6aa31",
   "metadata": {},
   "outputs": [
    {
     "name": "stdout",
     "output_type": "stream",
     "text": [
      "78\n",
      "92\n",
      "65\n"
     ]
    }
   ],
   "source": [
    "student3 = Student(name=\"學生3\",age=14,chinese=78,english=92,math=65)\n",
    "print(student3.chinese)\n",
    "print(student3.english)\n",
    "print(student3.math)"
   ]
  },
  {
   "cell_type": "code",
   "execution_count": null,
   "id": "f7d2a113",
   "metadata": {},
   "outputs": [],
   "source": []
  }
 ],
 "metadata": {
  "kernelspec": {
   "display_name": "Python 3 (ipykernel)",
   "language": "python",
   "name": "python3"
  },
  "language_info": {
   "codemirror_mode": {
    "name": "ipython",
    "version": 3
   },
   "file_extension": ".py",
   "mimetype": "text/x-python",
   "name": "python",
   "nbconvert_exporter": "python",
   "pygments_lexer": "ipython3",
   "version": "3.10.2"
  }
 },
 "nbformat": 4,
 "nbformat_minor": 5
}
