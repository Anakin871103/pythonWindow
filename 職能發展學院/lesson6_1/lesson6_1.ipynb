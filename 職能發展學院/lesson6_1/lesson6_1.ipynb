{
 "cells": [
  {
   "cell_type": "code",
   "execution_count": 1,
   "id": "6868a9b1",
   "metadata": {},
   "outputs": [],
   "source": [
    "file = open('oop.txt',mode='w',encoding='utf-8')\n",
    "print(\"喔!建立了一個檔案\",file=file)\n",
    "file.close()"
   ]
  },
  {
   "cell_type": "code",
   "execution_count": 2,
   "id": "71eaf7c4",
   "metadata": {},
   "outputs": [
    {
     "data": {
      "text/plain": [
       "True"
      ]
     },
     "execution_count": 2,
     "metadata": {},
     "output_type": "execute_result"
    }
   ],
   "source": [
    "import os\n",
    "os.path.exists('oop.txt')"
   ]
  },
  {
   "cell_type": "code",
   "execution_count": 4,
   "id": "12dcfb87",
   "metadata": {},
   "outputs": [
    {
     "data": {
      "text/plain": [
       "True"
      ]
     },
     "execution_count": 4,
     "metadata": {},
     "output_type": "execute_result"
    }
   ],
   "source": [
    "os.path.exists('./oop.txt')"
   ]
  },
  {
   "cell_type": "code",
   "execution_count": 6,
   "id": "99b7d2d6",
   "metadata": {},
   "outputs": [
    {
     "data": {
      "text/plain": [
       "True"
      ]
     },
     "execution_count": 6,
     "metadata": {},
     "output_type": "execute_result"
    }
   ],
   "source": [
    "os.path.exists('.')"
   ]
  },
  {
   "cell_type": "code",
   "execution_count": 7,
   "id": "8772d59c",
   "metadata": {},
   "outputs": [
    {
     "data": {
      "text/plain": [
       "True"
      ]
     },
     "execution_count": 7,
     "metadata": {},
     "output_type": "execute_result"
    }
   ],
   "source": [
    "os.path.exists('..')"
   ]
  },
  {
   "cell_type": "code",
   "execution_count": 8,
   "id": "e4a67366",
   "metadata": {},
   "outputs": [
    {
     "data": {
      "text/plain": [
       "True"
      ]
     },
     "execution_count": 8,
     "metadata": {},
     "output_type": "execute_result"
    }
   ],
   "source": [
    "os.path.isfile('oop.txt')"
   ]
  },
  {
   "cell_type": "code",
   "execution_count": 9,
   "id": "9bae6715",
   "metadata": {},
   "outputs": [
    {
     "data": {
      "text/plain": [
       "False"
      ]
     },
     "execution_count": 9,
     "metadata": {},
     "output_type": "execute_result"
    }
   ],
   "source": [
    "os.path.isdir('assets')"
   ]
  },
  {
   "cell_type": "code",
   "execution_count": 10,
   "id": "d86fdb3a",
   "metadata": {},
   "outputs": [],
   "source": [
    "os.mkdir('assets')"
   ]
  },
  {
   "cell_type": "code",
   "execution_count": 11,
   "id": "231eb27d",
   "metadata": {},
   "outputs": [
    {
     "data": {
      "text/plain": [
       "True"
      ]
     },
     "execution_count": 11,
     "metadata": {},
     "output_type": "execute_result"
    }
   ],
   "source": [
    "os.path.isdir('assets')"
   ]
  }
 ],
 "metadata": {
  "kernelspec": {
   "display_name": "Python 3 (ipykernel)",
   "language": "python",
   "name": "python3"
  },
  "language_info": {
   "codemirror_mode": {
    "name": "ipython",
    "version": 3
   },
   "file_extension": ".py",
   "mimetype": "text/x-python",
   "name": "python",
   "nbconvert_exporter": "python",
   "pygments_lexer": "ipython3",
   "version": "3.10.2"
  }
 },
 "nbformat": 4,
 "nbformat_minor": 5
}
