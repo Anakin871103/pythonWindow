{
 "cells": [
  {
   "cell_type": "code",
   "execution_count": 1,
   "id": "d088f9aa",
   "metadata": {},
   "outputs": [],
   "source": [
    "file = open('oop.txt',mode='w',encoding='utf-8')\n",
    "print(\"喔!建立了一個檔案\",file=file)\n",
    "file.close()"
   ]
  },
  {
   "cell_type": "code",
   "execution_count": 2,
   "id": "2e661efd",
   "metadata": {},
   "outputs": [
    {
     "data": {
      "text/plain": [
       "True"
      ]
     },
     "execution_count": 2,
     "metadata": {},
     "output_type": "execute_result"
    }
   ],
   "source": [
    "import os\n",
    "os.path.exists('oop.txt')"
   ]
  },
  {
   "cell_type": "code",
   "execution_count": 4,
   "id": "a057da16",
   "metadata": {},
   "outputs": [
    {
     "data": {
      "text/plain": [
       "True"
      ]
     },
     "execution_count": 4,
     "metadata": {},
     "output_type": "execute_result"
    }
   ],
   "source": [
    "os.path.exists('./oop.txt')"
   ]
  },
  {
   "cell_type": "code",
   "execution_count": 6,
   "id": "fa36428e",
   "metadata": {},
   "outputs": [
    {
     "data": {
      "text/plain": [
       "True"
      ]
     },
     "execution_count": 6,
     "metadata": {},
     "output_type": "execute_result"
    }
   ],
   "source": [
    "os.path.exists('.')"
   ]
  },
  {
   "cell_type": "code",
   "execution_count": 7,
   "id": "d2cc1fd2",
   "metadata": {},
   "outputs": [
    {
     "data": {
      "text/plain": [
       "True"
      ]
     },
     "execution_count": 7,
     "metadata": {},
     "output_type": "execute_result"
    }
   ],
   "source": [
    "os.path.exists('..')"
   ]
  },
  {
   "cell_type": "code",
   "execution_count": 8,
   "id": "7e4ffa1b",
   "metadata": {},
   "outputs": [
    {
     "data": {
      "text/plain": [
       "True"
      ]
     },
     "execution_count": 8,
     "metadata": {},
     "output_type": "execute_result"
    }
   ],
   "source": [
    "os.path.isfile('oop.txt')"
   ]
  },
  {
   "cell_type": "code",
   "execution_count": 9,
   "id": "4b32fd7e",
   "metadata": {},
   "outputs": [
    {
     "data": {
      "text/plain": [
       "False"
      ]
     },
     "execution_count": 9,
     "metadata": {},
     "output_type": "execute_result"
    }
   ],
   "source": [
    "os.path.isdir('assets')"
   ]
  },
  {
   "cell_type": "code",
   "execution_count": 10,
   "id": "6e78bc6c",
   "metadata": {},
   "outputs": [],
   "source": [
    "os.mkdir('assets')"
   ]
  },
  {
   "cell_type": "code",
   "execution_count": 11,
   "id": "f3b58056",
   "metadata": {},
   "outputs": [
    {
     "data": {
      "text/plain": [
       "True"
      ]
     },
     "execution_count": 11,
     "metadata": {},
     "output_type": "execute_result"
    }
   ],
   "source": [
    "os.path.isdir('assets')"
   ]
  },
  {
   "cell_type": "code",
   "execution_count": 16,
   "id": "a28a3742",
   "metadata": {},
   "outputs": [
    {
     "data": {
      "text/plain": [
       "'/Users/roberthsu/Documents/GitHub/pythonWindow/職能發展學院/lesson6_1/assets/oop.txt'"
      ]
     },
     "execution_count": 16,
     "metadata": {},
     "output_type": "execute_result"
    }
   ],
   "source": [
    "abspath = os.path.abspath('./assets/oop.txt')\n",
    "abspath"
   ]
  },
  {
   "cell_type": "code",
   "execution_count": 15,
   "id": "87a81ac2",
   "metadata": {},
   "outputs": [
    {
     "data": {
      "text/plain": [
       "False"
      ]
     },
     "execution_count": 15,
     "metadata": {},
     "output_type": "execute_result"
    }
   ],
   "source": [
    "os.path.isfile(abspath)"
   ]
  },
  {
   "cell_type": "code",
   "execution_count": 17,
   "id": "0032422b",
   "metadata": {},
   "outputs": [],
   "source": [
    "file = open(abspath,mode='w',encoding='utf-8')\n",
    "print(\"喔!建立了一個檔案\",file=file)\n",
    "file.close()"
   ]
  }
 ],
 "metadata": {
  "kernelspec": {
   "display_name": "Python 3 (ipykernel)",
   "language": "python",
   "name": "python3"
  },
  "language_info": {
   "codemirror_mode": {
    "name": "ipython",
    "version": 3
   },
   "file_extension": ".py",
   "mimetype": "text/x-python",
   "name": "python",
   "nbconvert_exporter": "python",
   "pygments_lexer": "ipython3",
   "version": "3.10.2"
  }
 },
 "nbformat": 4,
 "nbformat_minor": 5
}
