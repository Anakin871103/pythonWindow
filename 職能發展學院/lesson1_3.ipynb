{
 "cells": [
  {
   "cell_type": "code",
   "execution_count": 5,
   "id": "b0ee1ac2",
   "metadata": {},
   "outputs": [],
   "source": [
    "import requests\n",
    "\n",
    "url = \"https://data.tycg.gov.tw/opendata/datalist/datasetMeta/download?id=59f68b54-abc8-4167-b58f-642f7cc8876d&rid=55dc5b42-43de-42ed-aca6-2c1a0c7a961f\"\n",
    "response = requests.get(url,stream=True)\n"
   ]
  },
  {
   "cell_type": "code",
   "execution_count": 6,
   "id": "cb9f6d2a",
   "metadata": {},
   "outputs": [
    {
     "data": {
      "text/plain": [
       "b'\\xef\\xbb\\xbf\\xe6\\x99\\x82\\xe9\\x96\\x93,'"
      ]
     },
     "execution_count": 6,
     "metadata": {},
     "output_type": "execute_result"
    }
   ],
   "source": [
    "response.raw.read(10)"
   ]
  },
  {
   "cell_type": "code",
   "execution_count": 9,
   "id": "0c622a1d",
   "metadata": {},
   "outputs": [],
   "source": [
    "filename = \"桃園上線車輛數資料.csv\"\n",
    "\n",
    "with open(filename,'wb') as file:\n",
    "    for chunk in response.iter_content(chunk_size=128):\n",
    "        file.write(chunk)\n"
   ]
  },
  {
   "cell_type": "code",
   "execution_count": 11,
   "id": "7fb1fb7b",
   "metadata": {},
   "outputs": [],
   "source": [
    "url = 'https://cdn2.ettoday.net/images/6150/d6150646.jpg'\n",
    "response = requests.get(url,stream=True)\n",
    "filename = '周子瑜.jpg'\n",
    "with open(filename,'wb') as file:\n",
    "    for chunk in response.iter_content(chunk_size=128):\n",
    "        file.write(chunk)"
   ]
  },
  {
   "cell_type": "code",
   "execution_count": null,
   "id": "e7971670",
   "metadata": {},
   "outputs": [],
   "source": []
  }
 ],
 "metadata": {
  "kernelspec": {
   "display_name": "Python 3 (ipykernel)",
   "language": "python",
   "name": "python3"
  },
  "language_info": {
   "codemirror_mode": {
    "name": "ipython",
    "version": 3
   },
   "file_extension": ".py",
   "mimetype": "text/x-python",
   "name": "python",
   "nbconvert_exporter": "python",
   "pygments_lexer": "ipython3",
   "version": "3.10.2"
  }
 },
 "nbformat": 4,
 "nbformat_minor": 5
}
