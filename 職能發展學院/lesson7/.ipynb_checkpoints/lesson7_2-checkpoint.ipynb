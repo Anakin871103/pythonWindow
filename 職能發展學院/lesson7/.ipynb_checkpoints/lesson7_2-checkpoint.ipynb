{
 "cells": [
  {
   "cell_type": "code",
   "execution_count": 1,
   "id": "cf72c7ef",
   "metadata": {},
   "outputs": [],
   "source": [
    "html_doc = \"\"\"\n",
    "<html>\n",
    "<head>\n",
    "<title>A Useful Page</title>\n",
    "</head>\n",
    "<body>\n",
    "<h1>An Interesting Title</h1>\n",
    "<p class=\"title\"><b>The Dormouse's story</b></p>\n",
    "<p class=\"story\">Once upon a time there were three little sisters; and their names were\n",
    "<a class=\"sister\" href=\"http://example.com/elsie\" id=\"link1\">\n",
    "    Elsie\n",
    "</a>\n",
    ",\n",
    "<a class=\"sister\" href=\"http://example.com/lacie\" id=\"link2\">\n",
    " Lacie\n",
    "</a>\n",
    "and\n",
    "<a class=\"sister\" href=\"http://example.com/tillie\" id=\"link3\">\n",
    "Tillie\n",
    "</a>\n",
    "and they lived at the bottom of a well.\n",
    "</p>\n",
    "\n",
    "<div class='article'>\n",
    "Lorem ipsum dolor sit amet, consectetur adipisicing elit, sed do eiusmod tempor \n",
    "incididunt ut labore et dolore magna aliqua. Ut enim ad minim veniam, quis nostrud \n",
    "exercitation ullamco laboris nisi ut aliquip ex ea commodo consequat. Duis aute \n",
    "irure dolor in reprehenderit in voluptate velit esse cillum dolore eu fugiat nulla \n",
    "pariatur. Excepteur sint occaecat cupidatat non proident, sunt in culpa qui officia \n",
    "deserunt mollit anim id est laborum.\n",
    "</div>\n",
    "</body>\n",
    "</html>\n",
    "\"\"\""
   ]
  },
  {
   "cell_type": "code",
   "execution_count": 2,
   "id": "7fbe50ed",
   "metadata": {},
   "outputs": [
    {
     "data": {
      "text/plain": [
       "\n",
       "<html>\n",
       "<head>\n",
       "<title>A Useful Page</title>\n",
       "</head>\n",
       "<body>\n",
       "<h1>An Interesting Title</h1>\n",
       "<p class=\"title\"><b>The Dormouse's story</b></p>\n",
       "<p class=\"story\">Once upon a time there were three little sisters; and their names were\n",
       "<a class=\"sister\" href=\"http://example.com/elsie\" id=\"link1\">\n",
       "    Elsie\n",
       "</a>\n",
       ",\n",
       "<a class=\"sister\" href=\"http://example.com/lacie\" id=\"link2\">\n",
       " Lacie\n",
       "</a>\n",
       "and\n",
       "<a class=\"sister\" href=\"http://example.com/tillie\" id=\"link3\">\n",
       "Tillie\n",
       "</a>\n",
       "and they lived at the bottom of a well.\n",
       "</p>\n",
       "<div class=\"article\">\n",
       "Lorem ipsum dolor sit amet, consectetur adipisicing elit, sed do eiusmod tempor \n",
       "incididunt ut labore et dolore magna aliqua. Ut enim ad minim veniam, quis nostrud \n",
       "exercitation ullamco laboris nisi ut aliquip ex ea commodo consequat. Duis aute \n",
       "irure dolor in reprehenderit in voluptate velit esse cillum dolore eu fugiat nulla \n",
       "pariatur. Excepteur sint occaecat cupidatat non proident, sunt in culpa qui officia \n",
       "deserunt mollit anim id est laborum.\n",
       "</div>\n",
       "</body>\n",
       "</html>"
      ]
     },
     "execution_count": 2,
     "metadata": {},
     "output_type": "execute_result"
    }
   ],
   "source": [
    "from bs4 import BeautifulSoup\n",
    "bs = BeautifulSoup(html_doc,'html.parser')\n",
    "bs"
   ]
  },
  {
   "cell_type": "code",
   "execution_count": 3,
   "id": "ed08104f",
   "metadata": {},
   "outputs": [
    {
     "data": {
      "text/plain": [
       "'A Useful Page'"
      ]
     },
     "execution_count": 3,
     "metadata": {},
     "output_type": "execute_result"
    }
   ],
   "source": [
    "bs.title.string"
   ]
  },
  {
   "cell_type": "code",
   "execution_count": 5,
   "id": "bd8a7280",
   "metadata": {},
   "outputs": [
    {
     "name": "stdout",
     "output_type": "stream",
     "text": [
      "An Interesting Title\n",
      "h1\n"
     ]
    }
   ],
   "source": [
    "print(bs.body.h1.string)\n",
    "print(bs.body.h1.name)"
   ]
  },
  {
   "cell_type": "code",
   "execution_count": 8,
   "id": "06b0e4fd",
   "metadata": {},
   "outputs": [
    {
     "data": {
      "text/plain": [
       "['title']"
      ]
     },
     "execution_count": 8,
     "metadata": {},
     "output_type": "execute_result"
    }
   ],
   "source": [
    "bs.p['class']"
   ]
  },
  {
   "cell_type": "code",
   "execution_count": 19,
   "id": "fe636f0c",
   "metadata": {},
   "outputs": [
    {
     "name": "stdout",
     "output_type": "stream",
     "text": [
      "[<b>The Dormouse's story</b>]\n",
      "['Once upon a time there were three little sisters; and their names were\\n', <a class=\"sister\" href=\"http://example.com/elsie\" id=\"link1\">\n",
      "    Elsie\n",
      "</a>, '\\n,\\n', <a class=\"sister\" href=\"http://example.com/lacie\" id=\"link2\">\n",
      " Lacie\n",
      "</a>, '\\nand\\n', <a class=\"sister\" href=\"http://example.com/tillie\" id=\"link3\">\n",
      "Tillie\n",
      "</a>, '\\nand they lived at the bottom of a well.\\n']\n"
     ]
    }
   ],
   "source": [
    "allTag=bs.find_all('p')\n",
    "for tag in allTag:\n",
    "    print(tag.contents)\n"
   ]
  },
  {
   "cell_type": "code",
   "execution_count": 27,
   "id": "6738113d",
   "metadata": {},
   "outputs": [
    {
     "data": {
      "text/plain": [
       "'\\n Lacie\\n'"
      ]
     },
     "execution_count": 27,
     "metadata": {},
     "output_type": "execute_result"
    }
   ],
   "source": [
    "bs.find('a',class_='sister',id='link2').string"
   ]
  },
  {
   "cell_type": "code",
   "execution_count": 31,
   "id": "166d83d6",
   "metadata": {},
   "outputs": [
    {
     "data": {
      "text/plain": [
       "'\\n Lacie\\n'"
      ]
     },
     "execution_count": 31,
     "metadata": {},
     "output_type": "execute_result"
    }
   ],
   "source": [
    "bs.find('a',attrs={'class':'sister','id':'link2'}).string"
   ]
  },
  {
   "cell_type": "code",
   "execution_count": 35,
   "id": "a0650c26",
   "metadata": {},
   "outputs": [
    {
     "name": "stdout",
     "output_type": "stream",
     "text": [
      "link1\n",
      "\n",
      "    Elsie\n",
      "\n",
      "link2\n",
      "\n",
      " Lacie\n",
      "\n",
      "link3\n",
      "\n",
      "Tillie\n",
      "\n"
     ]
    }
   ],
   "source": [
    "for tag in bs.find_all('a'):\n",
    "    print(tag['id'])\n",
    "    print(tag.string)"
   ]
  },
  {
   "cell_type": "code",
   "execution_count": null,
   "id": "e4992043",
   "metadata": {},
   "outputs": [],
   "source": []
  }
 ],
 "metadata": {
  "kernelspec": {
   "display_name": "Python 3 (ipykernel)",
   "language": "python",
   "name": "python3"
  },
  "language_info": {
   "codemirror_mode": {
    "name": "ipython",
    "version": 3
   },
   "file_extension": ".py",
   "mimetype": "text/x-python",
   "name": "python",
   "nbconvert_exporter": "python",
   "pygments_lexer": "ipython3",
   "version": "3.8.7"
  }
 },
 "nbformat": 4,
 "nbformat_minor": 5
}
