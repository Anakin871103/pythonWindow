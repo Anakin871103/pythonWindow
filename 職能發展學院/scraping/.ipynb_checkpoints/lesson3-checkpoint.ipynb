{
 "cells": [
  {
   "cell_type": "code",
   "execution_count": 6,
   "id": "62e8ee90",
   "metadata": {},
   "outputs": [
    {
     "name": "stderr",
     "output_type": "stream",
     "text": [
      "\n",
      "\n",
      "====== WebDriver manager ======\n",
      "Current google-chrome version is 99.0.4844\n",
      "Get LATEST chromedriver version for 99.0.4844 google-chrome\n",
      "Driver [/Users/roberthsu/.wdm/drivers/chromedriver/mac64/99.0.4844.51/chromedriver] found in cache\n"
     ]
    },
    {
     "ename": "WebDriverException",
     "evalue": "Message: unknown error: cannot determine loading status\nfrom unknown error: cannot determine loading status\nfrom disconnected: received Inspector.detached event\n  (Session info: chrome=99.0.4844.83)\nStacktrace:\n0   chromedriver                        0x0000000104e52159 chromedriver + 5120345\n1   chromedriver                        0x0000000104ddfb13 chromedriver + 4651795\n2   chromedriver                        0x00000001049cfe68 chromedriver + 392808\n3   chromedriver                        0x00000001049bbcfd chromedriver + 310525\n4   chromedriver                        0x00000001049bb7ba chromedriver + 309178\n5   chromedriver                        0x00000001049bad5b chromedriver + 306523\n6   chromedriver                        0x00000001049b9bf8 chromedriver + 302072\n7   chromedriver                        0x00000001049ba13c chromedriver + 303420\n8   chromedriver                        0x00000001049c9953 chromedriver + 366931\n9   chromedriver                        0x00000001049bb56d chromedriver + 308589\n10  chromedriver                        0x00000001049bc2f6 chromedriver + 312054\n11  chromedriver                        0x00000001049bb7d7 chromedriver + 309207\n12  chromedriver                        0x00000001049bad5b chromedriver + 306523\n13  chromedriver                        0x00000001049b9bf8 chromedriver + 302072\n14  chromedriver                        0x00000001049ba13c chromedriver + 303420\n15  chromedriver                        0x00000001049c83af chromedriver + 361391\n16  chromedriver                        0x00000001049c8f32 chromedriver + 364338\n17  chromedriver                        0x00000001049d749e chromedriver + 423070\n18  chromedriver                        0x0000000104a35854 chromedriver + 809044\n19  chromedriver                        0x0000000104a22a33 chromedriver + 731699\n20  chromedriver                        0x00000001049f85dd chromedriver + 558557\n21  chromedriver                        0x00000001049f94f5 chromedriver + 562421\n22  chromedriver                        0x0000000104e0f38d chromedriver + 4846477\n23  chromedriver                        0x0000000104e2921c chromedriver + 4952604\n24  chromedriver                        0x0000000104e2ea12 chromedriver + 4975122\n25  chromedriver                        0x0000000104e29b4a chromedriver + 4954954\n26  chromedriver                        0x0000000104e045b0 chromedriver + 4801968\n27  chromedriver                        0x0000000104e43f78 chromedriver + 5062520\n28  chromedriver                        0x0000000104e440ff chromedriver + 5062911\n29  chromedriver                        0x0000000104e59545 chromedriver + 5150021\n30  libsystem_pthread.dylib             0x00007ff80a8084e1 _pthread_start + 125\n31  libsystem_pthread.dylib             0x00007ff80a803f6b thread_start + 15\n",
     "output_type": "error",
     "traceback": [
      "\u001b[0;31m---------------------------------------------------------------------------\u001b[0m",
      "\u001b[0;31mWebDriverException\u001b[0m                        Traceback (most recent call last)",
      "Input \u001b[0;32mIn [6]\u001b[0m, in \u001b[0;36m<cell line: 10>\u001b[0;34m()\u001b[0m\n\u001b[1;32m      7\u001b[0m options\u001b[38;5;241m.\u001b[39mpage_load_strategy \u001b[38;5;241m=\u001b[39m \u001b[38;5;124m'\u001b[39m\u001b[38;5;124mnormal\u001b[39m\u001b[38;5;124m'\u001b[39m\n\u001b[1;32m      9\u001b[0m driver \u001b[38;5;241m=\u001b[39m webdriver\u001b[38;5;241m.\u001b[39mChrome(service\u001b[38;5;241m=\u001b[39mService(ChromeDriverManager()\u001b[38;5;241m.\u001b[39minstall()),options\u001b[38;5;241m=\u001b[39moptions)\n\u001b[0;32m---> 10\u001b[0m \u001b[43mdriver\u001b[49m\u001b[38;5;241;43m.\u001b[39;49m\u001b[43mget\u001b[49m\u001b[43m(\u001b[49m\u001b[38;5;124;43m\"\u001b[39;49m\u001b[38;5;124;43mhttp://www.google.com\u001b[39;49m\u001b[38;5;124;43m\"\u001b[39;49m\u001b[43m)\u001b[49m \n\u001b[1;32m     11\u001b[0m driver\u001b[38;5;241m.\u001b[39mquit()\n",
      "File \u001b[0;32m~/Documents/virtualEnv/venv4/lib/python3.10/site-packages/selenium/webdriver/remote/webdriver.py:437\u001b[0m, in \u001b[0;36mWebDriver.get\u001b[0;34m(self, url)\u001b[0m\n\u001b[1;32m    433\u001b[0m \u001b[38;5;28;01mdef\u001b[39;00m \u001b[38;5;21mget\u001b[39m(\u001b[38;5;28mself\u001b[39m, url: \u001b[38;5;28mstr\u001b[39m) \u001b[38;5;241m-\u001b[39m\u001b[38;5;241m>\u001b[39m \u001b[38;5;28;01mNone\u001b[39;00m:\n\u001b[1;32m    434\u001b[0m     \u001b[38;5;124;03m\"\"\"\u001b[39;00m\n\u001b[1;32m    435\u001b[0m \u001b[38;5;124;03m    Loads a web page in the current browser session.\u001b[39;00m\n\u001b[1;32m    436\u001b[0m \u001b[38;5;124;03m    \"\"\"\u001b[39;00m\n\u001b[0;32m--> 437\u001b[0m     \u001b[38;5;28;43mself\u001b[39;49m\u001b[38;5;241;43m.\u001b[39;49m\u001b[43mexecute\u001b[49m\u001b[43m(\u001b[49m\u001b[43mCommand\u001b[49m\u001b[38;5;241;43m.\u001b[39;49m\u001b[43mGET\u001b[49m\u001b[43m,\u001b[49m\u001b[43m \u001b[49m\u001b[43m{\u001b[49m\u001b[38;5;124;43m'\u001b[39;49m\u001b[38;5;124;43murl\u001b[39;49m\u001b[38;5;124;43m'\u001b[39;49m\u001b[43m:\u001b[49m\u001b[43m \u001b[49m\u001b[43murl\u001b[49m\u001b[43m}\u001b[49m\u001b[43m)\u001b[49m\n",
      "File \u001b[0;32m~/Documents/virtualEnv/venv4/lib/python3.10/site-packages/selenium/webdriver/remote/webdriver.py:425\u001b[0m, in \u001b[0;36mWebDriver.execute\u001b[0;34m(self, driver_command, params)\u001b[0m\n\u001b[1;32m    423\u001b[0m response \u001b[38;5;241m=\u001b[39m \u001b[38;5;28mself\u001b[39m\u001b[38;5;241m.\u001b[39mcommand_executor\u001b[38;5;241m.\u001b[39mexecute(driver_command, params)\n\u001b[1;32m    424\u001b[0m \u001b[38;5;28;01mif\u001b[39;00m response:\n\u001b[0;32m--> 425\u001b[0m     \u001b[38;5;28;43mself\u001b[39;49m\u001b[38;5;241;43m.\u001b[39;49m\u001b[43merror_handler\u001b[49m\u001b[38;5;241;43m.\u001b[39;49m\u001b[43mcheck_response\u001b[49m\u001b[43m(\u001b[49m\u001b[43mresponse\u001b[49m\u001b[43m)\u001b[49m\n\u001b[1;32m    426\u001b[0m     response[\u001b[38;5;124m'\u001b[39m\u001b[38;5;124mvalue\u001b[39m\u001b[38;5;124m'\u001b[39m] \u001b[38;5;241m=\u001b[39m \u001b[38;5;28mself\u001b[39m\u001b[38;5;241m.\u001b[39m_unwrap_value(\n\u001b[1;32m    427\u001b[0m         response\u001b[38;5;241m.\u001b[39mget(\u001b[38;5;124m'\u001b[39m\u001b[38;5;124mvalue\u001b[39m\u001b[38;5;124m'\u001b[39m, \u001b[38;5;28;01mNone\u001b[39;00m))\n\u001b[1;32m    428\u001b[0m     \u001b[38;5;28;01mreturn\u001b[39;00m response\n",
      "File \u001b[0;32m~/Documents/virtualEnv/venv4/lib/python3.10/site-packages/selenium/webdriver/remote/errorhandler.py:247\u001b[0m, in \u001b[0;36mErrorHandler.check_response\u001b[0;34m(self, response)\u001b[0m\n\u001b[1;32m    245\u001b[0m         alert_text \u001b[38;5;241m=\u001b[39m value[\u001b[38;5;124m'\u001b[39m\u001b[38;5;124malert\u001b[39m\u001b[38;5;124m'\u001b[39m]\u001b[38;5;241m.\u001b[39mget(\u001b[38;5;124m'\u001b[39m\u001b[38;5;124mtext\u001b[39m\u001b[38;5;124m'\u001b[39m)\n\u001b[1;32m    246\u001b[0m     \u001b[38;5;28;01mraise\u001b[39;00m exception_class(message, screen, stacktrace, alert_text)  \u001b[38;5;66;03m# type: ignore[call-arg]  # mypy is not smart enough here\u001b[39;00m\n\u001b[0;32m--> 247\u001b[0m \u001b[38;5;28;01mraise\u001b[39;00m exception_class(message, screen, stacktrace)\n",
      "\u001b[0;31mWebDriverException\u001b[0m: Message: unknown error: cannot determine loading status\nfrom unknown error: cannot determine loading status\nfrom disconnected: received Inspector.detached event\n  (Session info: chrome=99.0.4844.83)\nStacktrace:\n0   chromedriver                        0x0000000104e52159 chromedriver + 5120345\n1   chromedriver                        0x0000000104ddfb13 chromedriver + 4651795\n2   chromedriver                        0x00000001049cfe68 chromedriver + 392808\n3   chromedriver                        0x00000001049bbcfd chromedriver + 310525\n4   chromedriver                        0x00000001049bb7ba chromedriver + 309178\n5   chromedriver                        0x00000001049bad5b chromedriver + 306523\n6   chromedriver                        0x00000001049b9bf8 chromedriver + 302072\n7   chromedriver                        0x00000001049ba13c chromedriver + 303420\n8   chromedriver                        0x00000001049c9953 chromedriver + 366931\n9   chromedriver                        0x00000001049bb56d chromedriver + 308589\n10  chromedriver                        0x00000001049bc2f6 chromedriver + 312054\n11  chromedriver                        0x00000001049bb7d7 chromedriver + 309207\n12  chromedriver                        0x00000001049bad5b chromedriver + 306523\n13  chromedriver                        0x00000001049b9bf8 chromedriver + 302072\n14  chromedriver                        0x00000001049ba13c chromedriver + 303420\n15  chromedriver                        0x00000001049c83af chromedriver + 361391\n16  chromedriver                        0x00000001049c8f32 chromedriver + 364338\n17  chromedriver                        0x00000001049d749e chromedriver + 423070\n18  chromedriver                        0x0000000104a35854 chromedriver + 809044\n19  chromedriver                        0x0000000104a22a33 chromedriver + 731699\n20  chromedriver                        0x00000001049f85dd chromedriver + 558557\n21  chromedriver                        0x00000001049f94f5 chromedriver + 562421\n22  chromedriver                        0x0000000104e0f38d chromedriver + 4846477\n23  chromedriver                        0x0000000104e2921c chromedriver + 4952604\n24  chromedriver                        0x0000000104e2ea12 chromedriver + 4975122\n25  chromedriver                        0x0000000104e29b4a chromedriver + 4954954\n26  chromedriver                        0x0000000104e045b0 chromedriver + 4801968\n27  chromedriver                        0x0000000104e43f78 chromedriver + 5062520\n28  chromedriver                        0x0000000104e440ff chromedriver + 5062911\n29  chromedriver                        0x0000000104e59545 chromedriver + 5150021\n30  libsystem_pthread.dylib             0x00007ff80a8084e1 _pthread_start + 125\n31  libsystem_pthread.dylib             0x00007ff80a803f6b thread_start + 15\n"
     ]
    }
   ],
   "source": [
    "from selenium import webdriver\n",
    "from selenium.webdriver.chrome.service import Service\n",
    "from selenium.webdriver.chrome.options import Options\n",
    "from webdriver_manager.chrome import ChromeDriverManager\n",
    "\n",
    "options = Options()\n",
    "options.page_load_strategy = 'normal'\n",
    "\n",
    "driver = webdriver.Chrome(service=Service(ChromeDriverManager().install()),options=options)\n",
    "driver.get(\"https://www.google.com\") \n",
    "driver.quit()"
   ]
  },
  {
   "cell_type": "code",
   "execution_count": null,
   "id": "009e89d6",
   "metadata": {},
   "outputs": [],
   "source": []
  }
 ],
 "metadata": {
  "kernelspec": {
   "display_name": "Python 3 (ipykernel)",
   "language": "python",
   "name": "python3"
  },
  "language_info": {
   "codemirror_mode": {
    "name": "ipython",
    "version": 3
   },
   "file_extension": ".py",
   "mimetype": "text/x-python",
   "name": "python",
   "nbconvert_exporter": "python",
   "pygments_lexer": "ipython3",
   "version": "3.10.2"
  }
 },
 "nbformat": 4,
 "nbformat_minor": 5
}
