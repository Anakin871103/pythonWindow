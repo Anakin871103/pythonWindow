{
 "cells": [
  {
   "cell_type": "code",
   "execution_count": 6,
   "id": "b3453350",
   "metadata": {},
   "outputs": [
    {
     "name": "stdout",
     "output_type": "stream",
     "text": [
      "<td align=\"center\" class=\"oddObj\" id=\"2330_o\" width=\"6%\">-</td>\n"
     ]
    }
   ],
   "source": [
    "import requests\n",
    "from bs4 import BeautifulSoup\n",
    "url = \"https://mis.twse.com.tw/stock/fibest.jsp?stock=2330\"\n",
    "response = requests.get(url)\n",
    "if response.status_code == 200:\n",
    "    soup = BeautifulSoup(response.text,'html.parser')\n",
    "    v_odd = soup.find(id='2330_o')\n",
    "    print(v_odd)"
   ]
  },
  {
   "cell_type": "code",
   "execution_count": null,
   "id": "b0f8b7ad",
   "metadata": {},
   "outputs": [],
   "source": []
  }
 ],
 "metadata": {
  "kernelspec": {
   "display_name": "Python 3 (ipykernel)",
   "language": "python",
   "name": "python3"
  },
  "language_info": {
   "codemirror_mode": {
    "name": "ipython",
    "version": 3
   },
   "file_extension": ".py",
   "mimetype": "text/x-python",
   "name": "python",
   "nbconvert_exporter": "python",
   "pygments_lexer": "ipython3",
   "version": "3.8.7"
  }
 },
 "nbformat": 4,
 "nbformat_minor": 5
}
