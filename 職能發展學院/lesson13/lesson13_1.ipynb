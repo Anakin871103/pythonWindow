{
 "cells": [
  {
   "cell_type": "code",
   "execution_count": 22,
   "id": "8c239e57",
   "metadata": {},
   "outputs": [
    {
     "name": "stderr",
     "output_type": "stream",
     "text": [
      "\n",
      "\n",
      "====== WebDriver manager ======\n",
      "Current google-chrome version is 96.0.4664\n",
      "Get LATEST chromedriver version for 96.0.4664 google-chrome\n",
      "Driver [C:\\Users\\User\\.wdm\\drivers\\chromedriver\\win32\\96.0.4664.45\\chromedriver.exe] found in cache\n"
     ]
    },
    {
     "name": "stdout",
     "output_type": "stream",
     "text": [
      "<td align=\"center\" class=\"oddObj\" id=\"2330_o\" style=\"display: none;\" width=\"6%\">614.00</td>\n"
     ]
    }
   ],
   "source": [
    "#必需先安裝2個套件\n",
    "#selenium4.0以上不需要手動下載webdriver軟體，只需要安裝2個套件\n",
    "#pip3 install selenium\n",
    "#pip3 install webdriver_manager\n",
    "\n",
    "#初始化webdriver\n",
    "#driver = webdriver.Chrome(service=Service(ChromeDriverManager().install()))\n",
    "\n",
    "from selenium import webdriver\n",
    "from selenium.webdriver.chrome.service import Service\n",
    "from webdriver_manager.chrome import ChromeDriverManager\n",
    "from selenium.webdriver.common.by import By\n",
    "\n",
    "from bs4 import BeautifulSoup\n",
    "\n",
    "url = \"https://mis.twse.com.tw/stock/fibest.jsp?stock=2330\"\n",
    "#driver = webdriver.Chrome(r\"C:\\Users\\User\\Downloads\\chromedriver_win32\\chromedriver\")\n",
    "driver = webdriver.Chrome(service=Service(ChromeDriverManager().install()))  #初始化webdriver\n",
    "driver.get(url)\n",
    "driver.find_element(By.ID,'btnChangeToOdd').click() #模擬使用者按這個按鈕\n",
    "webPageText = driver.page_source\n",
    "#print(webPageText)\n",
    "soup = BeautifulSoup(webPageText,'html.parser')\n",
    "v_odd = soup.find(id='2330_o')\n",
    "print(v_odd)"
   ]
  },
  {
   "cell_type": "code",
   "execution_count": null,
   "id": "0afda81d",
   "metadata": {},
   "outputs": [],
   "source": []
  }
 ],
 "metadata": {
  "kernelspec": {
   "display_name": "Python 3 (ipykernel)",
   "language": "python",
   "name": "python3"
  },
  "language_info": {
   "codemirror_mode": {
    "name": "ipython",
    "version": 3
   },
   "file_extension": ".py",
   "mimetype": "text/x-python",
   "name": "python",
   "nbconvert_exporter": "python",
   "pygments_lexer": "ipython3",
   "version": "3.8.7"
  }
 },
 "nbformat": 4,
 "nbformat_minor": 5
}
