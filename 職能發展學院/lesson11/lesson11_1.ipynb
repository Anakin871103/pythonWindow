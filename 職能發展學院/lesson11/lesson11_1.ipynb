{
 "cells": [
  {
   "cell_type": "code",
   "execution_count": 2,
   "id": "82ad21f2",
   "metadata": {},
   "outputs": [],
   "source": [
    "fileout = open('oops.txt','wt',encoding='utf-8')\n",
    "print('建立一個檔案(2)',file=fileout)\n",
    "fileout.close()"
   ]
  },
  {
   "cell_type": "code",
   "execution_count": 3,
   "id": "1e8ea91c",
   "metadata": {},
   "outputs": [
    {
     "name": "stdout",
     "output_type": "stream",
     "text": [
      "True\n"
     ]
    }
   ],
   "source": [
    "#使用exist()檢查檔案是否存在\n",
    "import os\n",
    "print(os.path.exists('oops.txt'))"
   ]
  },
  {
   "cell_type": "code",
   "execution_count": 4,
   "id": "f847ecd8",
   "metadata": {},
   "outputs": [
    {
     "name": "stdout",
     "output_type": "stream",
     "text": [
      "True\n"
     ]
    }
   ],
   "source": [
    "print(os.path.exists('./oops.txt'))"
   ]
  },
  {
   "cell_type": "code",
   "execution_count": 5,
   "id": "d151cf98",
   "metadata": {},
   "outputs": [
    {
     "data": {
      "text/plain": [
       "False"
      ]
     },
     "execution_count": 5,
     "metadata": {},
     "output_type": "execute_result"
    }
   ],
   "source": [
    "os.path.exists('hello.txt')"
   ]
  },
  {
   "cell_type": "code",
   "execution_count": 9,
   "id": "08da48d8",
   "metadata": {},
   "outputs": [
    {
     "data": {
      "text/plain": [
       "True"
      ]
     },
     "execution_count": 9,
     "metadata": {},
     "output_type": "execute_result"
    }
   ],
   "source": [
    "#建立資料夾\n",
    "if not os.path.exists('poems'):\n",
    "    os.mkdir('poems')\n",
    "os.path.exists('poems')"
   ]
  },
  {
   "cell_type": "code",
   "execution_count": 10,
   "id": "2d86cb32",
   "metadata": {},
   "outputs": [],
   "source": [
    "#建立資料夾內的檔案\n",
    "if not os.path.exists('./poems/oops.txt'):\n",
    "    fileout = open('./poems/oops.txt','wt',encoding=\"utf-8\")\n",
    "    fileout.write('這是寫入到一個資料夾的內容')\n",
    "    fileout.close()"
   ]
  },
  {
   "cell_type": "code",
   "execution_count": 12,
   "id": "bcf1cddb",
   "metadata": {},
   "outputs": [
    {
     "data": {
      "text/plain": [
       "'/Users/roberthsu2003/Documents/GitHub/pythonWindow/職能發展學院/lesson11/poems/oops.txt'"
      ]
     },
     "execution_count": 12,
     "metadata": {},
     "output_type": "execute_result"
    }
   ],
   "source": [
    "#檢查檔案的絕對路徑\n",
    "os.path.abspath('./poems/oops.txt')"
   ]
  },
  {
   "cell_type": "code",
   "execution_count": 15,
   "id": "a380b9fb",
   "metadata": {},
   "outputs": [
    {
     "data": {
      "text/plain": [
       "'oops.txt'"
      ]
     },
     "execution_count": 15,
     "metadata": {},
     "output_type": "execute_result"
    }
   ],
   "source": [
    "os.path.basename('./poems/oops.txt')"
   ]
  },
  {
   "cell_type": "code",
   "execution_count": 16,
   "id": "c92f3a42",
   "metadata": {},
   "outputs": [
    {
     "data": {
      "text/plain": [
       "'/Users/roberthsu2003/Documents/GitHub/pythonWindow/職能發展學院/lesson11'"
      ]
     },
     "execution_count": 16,
     "metadata": {},
     "output_type": "execute_result"
    }
   ],
   "source": [
    "#取得目前目錄的絕對路徑\n",
    "os.path.abspath('.')"
   ]
  },
  {
   "cell_type": "code",
   "execution_count": null,
   "id": "4000873d",
   "metadata": {},
   "outputs": [],
   "source": [
    "#沒有目錄，無法寫檔案\n",
    "fileout = open('./poems1/oops.txt','wt',encoding=\"utf-8\")\n",
    "fileout.write('這是寫入到一個資料夾的內容')\n",
    "fileout.close()"
   ]
  },
  {
   "cell_type": "code",
   "execution_count": 18,
   "id": "c7e4ca9d",
   "metadata": {},
   "outputs": [
    {
     "data": {
      "text/plain": [
       "datetime.date(2018, 10, 9)"
      ]
     },
     "execution_count": 18,
     "metadata": {},
     "output_type": "execute_result"
    }
   ],
   "source": [
    "from datetime import date\n",
    "halloween = date(2018,10,9)\n",
    "halloween"
   ]
  },
  {
   "cell_type": "code",
   "execution_count": 19,
   "id": "e2153c3c",
   "metadata": {},
   "outputs": [
    {
     "data": {
      "text/plain": [
       "'2018-10-09'"
      ]
     },
     "execution_count": 19,
     "metadata": {},
     "output_type": "execute_result"
    }
   ],
   "source": [
    "halloween.isoformat()"
   ]
  },
  {
   "cell_type": "code",
   "execution_count": 21,
   "id": "c83f096a",
   "metadata": {},
   "outputs": [
    {
     "data": {
      "text/plain": [
       "'2018-10-09'"
      ]
     },
     "execution_count": 21,
     "metadata": {},
     "output_type": "execute_result"
    }
   ],
   "source": [
    "halloween.__str__()"
   ]
  },
  {
   "cell_type": "code",
   "execution_count": 22,
   "id": "2ab2e149",
   "metadata": {},
   "outputs": [
    {
     "name": "stdout",
     "output_type": "stream",
     "text": [
      "2018-10-09\n"
     ]
    }
   ],
   "source": [
    "print(halloween)"
   ]
  },
  {
   "cell_type": "code",
   "execution_count": 25,
   "id": "996f4779",
   "metadata": {},
   "outputs": [
    {
     "data": {
      "text/plain": [
       "(2018, 10, 9)"
      ]
     },
     "execution_count": 25,
     "metadata": {},
     "output_type": "execute_result"
    }
   ],
   "source": [
    "halloween.year , halloween.month, halloween.day"
   ]
  },
  {
   "cell_type": "code",
   "execution_count": 26,
   "id": "bc2cddb5",
   "metadata": {},
   "outputs": [
    {
     "data": {
      "text/plain": [
       "'2018/10/9'"
      ]
     },
     "execution_count": 26,
     "metadata": {},
     "output_type": "execute_result"
    }
   ],
   "source": [
    "f\"{halloween.year}/{halloween.month}/{halloween.day}\""
   ]
  },
  {
   "cell_type": "code",
   "execution_count": 29,
   "id": "65f52d26",
   "metadata": {},
   "outputs": [
    {
     "data": {
      "text/plain": [
       "'今天是2021/11/26'"
      ]
     },
     "execution_count": 29,
     "metadata": {},
     "output_type": "execute_result"
    }
   ],
   "source": [
    "today = date.today()\n",
    "f\"今天是{today.year}/{today.month}/{today.day}\""
   ]
  },
  {
   "cell_type": "code",
   "execution_count": 32,
   "id": "35515663",
   "metadata": {},
   "outputs": [
    {
     "data": {
      "text/plain": [
       "'明天是2021/11/27'"
      ]
     },
     "execution_count": 32,
     "metadata": {},
     "output_type": "execute_result"
    }
   ],
   "source": [
    "from datetime import timedelta\n",
    "oneday = timedelta(days=1)\n",
    "tomorrow = today + oneday\n",
    "f\"明天是{tomorrow.year}/{tomorrow.month}/{tomorrow.day}\""
   ]
  },
  {
   "cell_type": "code",
   "execution_count": 35,
   "id": "2fcf971a",
   "metadata": {},
   "outputs": [
    {
     "data": {
      "text/plain": [
       "'昨天是2021/11/25'"
      ]
     },
     "execution_count": 35,
     "metadata": {},
     "output_type": "execute_result"
    }
   ],
   "source": [
    "oneday = timedelta(days=1)\n",
    "yesterday = today - oneday\n",
    "f\"昨天是{yesterday.year}/{yesterday.month}/{yesterday.day}\""
   ]
  },
  {
   "cell_type": "code",
   "execution_count": 39,
   "id": "3001037f",
   "metadata": {},
   "outputs": [
    {
     "data": {
      "text/plain": [
       "'12-24-30'"
      ]
     },
     "execution_count": 39,
     "metadata": {},
     "output_type": "execute_result"
    }
   ],
   "source": [
    "from datetime import time\n",
    "noon = time(hour=12,minute=24,second=30)\n",
    "noon.isoformat()\n",
    "f\"{noon.hour}-{noon.minute}-{noon.second}\""
   ]
  },
  {
   "cell_type": "code",
   "execution_count": 40,
   "id": "27448626",
   "metadata": {},
   "outputs": [
    {
     "data": {
      "text/plain": [
       "'2021-11-10T12:30:50'"
      ]
     },
     "execution_count": 40,
     "metadata": {},
     "output_type": "execute_result"
    }
   ],
   "source": [
    "from datetime import datetime\n",
    "some_day = datetime(2021,11,10,12,30,50)\n",
    "some_day.isoformat()"
   ]
  },
  {
   "cell_type": "code",
   "execution_count": 41,
   "id": "5fbad1bd",
   "metadata": {},
   "outputs": [
    {
     "data": {
      "text/plain": [
       "(2021, 11, 10, 12, 30, 50)"
      ]
     },
     "execution_count": 41,
     "metadata": {},
     "output_type": "execute_result"
    }
   ],
   "source": [
    "some_day.year, some_day.month, some_day.day, some_day.hour, some_day.minute, some_day.second"
   ]
  },
  {
   "cell_type": "code",
   "execution_count": 42,
   "id": "a44249c5",
   "metadata": {},
   "outputs": [
    {
     "data": {
      "text/plain": [
       "datetime.datetime(2021, 11, 26, 9, 54, 21, 562080)"
      ]
     },
     "execution_count": 42,
     "metadata": {},
     "output_type": "execute_result"
    }
   ],
   "source": [
    "now=datetime.now()\n",
    "now"
   ]
  },
  {
   "cell_type": "code",
   "execution_count": 43,
   "id": "150c385a",
   "metadata": {},
   "outputs": [
    {
     "data": {
      "text/plain": [
       "'2021-11-26T09:54:21.562080'"
      ]
     },
     "execution_count": 43,
     "metadata": {},
     "output_type": "execute_result"
    }
   ],
   "source": [
    "now.isoformat()"
   ]
  },
  {
   "cell_type": "code",
   "execution_count": 44,
   "id": "b2928383",
   "metadata": {},
   "outputs": [
    {
     "data": {
      "text/plain": [
       "1637892107.0551622"
      ]
     },
     "execution_count": 44,
     "metadata": {},
     "output_type": "execute_result"
    }
   ],
   "source": [
    "#有關於time module\n",
    "import time\n",
    "now = time.time()\n",
    "now"
   ]
  },
  {
   "cell_type": "code",
   "execution_count": 45,
   "id": "3eed648b",
   "metadata": {},
   "outputs": [
    {
     "data": {
      "text/plain": [
       "'Fri Nov 26 10:01:47 2021'"
      ]
     },
     "execution_count": 45,
     "metadata": {},
     "output_type": "execute_result"
    }
   ],
   "source": [
    "time.ctime(now)"
   ]
  },
  {
   "cell_type": "code",
   "execution_count": 49,
   "id": "fc9fa231",
   "metadata": {},
   "outputs": [
    {
     "data": {
      "text/plain": [
       "'2021-11-26 10:08:22'"
      ]
     },
     "execution_count": 49,
     "metadata": {},
     "output_type": "execute_result"
    }
   ],
   "source": [
    "time.strftime(\"%Y-%m-%d %H:%M:%S\",time.localtime())"
   ]
  },
  {
   "cell_type": "code",
   "execution_count": 50,
   "id": "91e23246",
   "metadata": {},
   "outputs": [
    {
     "data": {
      "text/plain": [
       "'2021-11-26 02:08:34'"
      ]
     },
     "execution_count": 50,
     "metadata": {},
     "output_type": "execute_result"
    }
   ],
   "source": [
    "time.strftime(\"%Y-%m-%d %H:%M:%S\",time.gmtime())"
   ]
  },
  {
   "cell_type": "code",
   "execution_count": null,
   "id": "7be47775",
   "metadata": {},
   "outputs": [],
   "source": []
  }
 ],
 "metadata": {
  "kernelspec": {
   "display_name": "Python 3 (ipykernel)",
   "language": "python",
   "name": "python3"
  },
  "language_info": {
   "codemirror_mode": {
    "name": "ipython",
    "version": 3
   },
   "file_extension": ".py",
   "mimetype": "text/x-python",
   "name": "python",
   "nbconvert_exporter": "python",
   "pygments_lexer": "ipython3",
   "version": "3.8.7"
  }
 },
 "nbformat": 4,
 "nbformat_minor": 5
}
