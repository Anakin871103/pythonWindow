{
 "cells": [
  {
   "cell_type": "code",
   "execution_count": 2,
   "id": "82ad21f2",
   "metadata": {},
   "outputs": [],
   "source": [
    "fileout = open('oops.txt','wt',encoding='utf-8')\n",
    "print('建立一個檔案(2)',file=fileout)\n",
    "fileout.close()"
   ]
  },
  {
   "cell_type": "code",
   "execution_count": 3,
   "id": "36bc9063",
   "metadata": {},
   "outputs": [
    {
     "name": "stdout",
     "output_type": "stream",
     "text": [
      "True\n"
     ]
    }
   ],
   "source": [
    "#使用exist()檢查檔案是否存在\n",
    "import os\n",
    "print(os.path.exists('oops.txt'))"
   ]
  },
  {
   "cell_type": "code",
   "execution_count": 4,
   "id": "537519e7",
   "metadata": {},
   "outputs": [
    {
     "name": "stdout",
     "output_type": "stream",
     "text": [
      "True\n"
     ]
    }
   ],
   "source": [
    "print(os.path.exists('./oops.txt'))"
   ]
  },
  {
   "cell_type": "code",
   "execution_count": 5,
   "id": "d49d2699",
   "metadata": {},
   "outputs": [
    {
     "data": {
      "text/plain": [
       "False"
      ]
     },
     "execution_count": 5,
     "metadata": {},
     "output_type": "execute_result"
    }
   ],
   "source": [
    "os.path.exists('hello.txt')"
   ]
  },
  {
   "cell_type": "code",
   "execution_count": 9,
   "id": "dac8e979",
   "metadata": {},
   "outputs": [
    {
     "data": {
      "text/plain": [
       "True"
      ]
     },
     "execution_count": 9,
     "metadata": {},
     "output_type": "execute_result"
    }
   ],
   "source": [
    "#建立資料夾\n",
    "if not os.path.exists('poems'):\n",
    "    os.mkdir('poems')\n",
    "os.path.exists('poems')"
   ]
  },
  {
   "cell_type": "code",
   "execution_count": 10,
   "id": "7e59751e",
   "metadata": {},
   "outputs": [],
   "source": [
    "#建立資料夾內的檔案\n",
    "if not os.path.exists('./poems/oops.txt'):\n",
    "    fileout = open('./poems/oops.txt','wt',encoding=\"utf-8\")\n",
    "    fileout.write('這是寫入到一個資料夾的內容')\n",
    "    fileout.close()"
   ]
  },
  {
   "cell_type": "code",
   "execution_count": 12,
   "id": "6c230934",
   "metadata": {},
   "outputs": [
    {
     "data": {
      "text/plain": [
       "'/Users/roberthsu2003/Documents/GitHub/pythonWindow/職能發展學院/lesson11/poems/oops.txt'"
      ]
     },
     "execution_count": 12,
     "metadata": {},
     "output_type": "execute_result"
    }
   ],
   "source": [
    "#檢查檔案的絕對路徑\n",
    "os.path.abspath('./poems/oops.txt')"
   ]
  },
  {
   "cell_type": "code",
   "execution_count": 15,
   "id": "85a036df",
   "metadata": {},
   "outputs": [
    {
     "data": {
      "text/plain": [
       "'oops.txt'"
      ]
     },
     "execution_count": 15,
     "metadata": {},
     "output_type": "execute_result"
    }
   ],
   "source": [
    "os.path.basename('./poems/oops.txt')"
   ]
  },
  {
   "cell_type": "code",
   "execution_count": 16,
   "id": "52735d95",
   "metadata": {},
   "outputs": [
    {
     "data": {
      "text/plain": [
       "'/Users/roberthsu2003/Documents/GitHub/pythonWindow/職能發展學院/lesson11'"
      ]
     },
     "execution_count": 16,
     "metadata": {},
     "output_type": "execute_result"
    }
   ],
   "source": [
    "#取得目前目錄的絕對路徑\n",
    "os.path.abspath('.')"
   ]
  },
  {
   "cell_type": "code",
   "execution_count": null,
   "id": "fa674bda",
   "metadata": {},
   "outputs": [],
   "source": [
    "#沒有目錄，無法寫檔案\n",
    "fileout = open('./poems1/oops.txt','wt',encoding=\"utf-8\")\n",
    "fileout.write('這是寫入到一個資料夾的內容')\n",
    "fileout.close()"
   ]
  },
  {
   "cell_type": "code",
   "execution_count": 18,
   "id": "a89c4df0",
   "metadata": {},
   "outputs": [
    {
     "data": {
      "text/plain": [
       "datetime.date(2018, 10, 9)"
      ]
     },
     "execution_count": 18,
     "metadata": {},
     "output_type": "execute_result"
    }
   ],
   "source": [
    "from datetime import date\n",
    "halloween = date(2018,10,9)\n",
    "halloween"
   ]
  },
  {
   "cell_type": "code",
   "execution_count": 19,
   "id": "8b8b608b",
   "metadata": {},
   "outputs": [
    {
     "data": {
      "text/plain": [
       "'2018-10-09'"
      ]
     },
     "execution_count": 19,
     "metadata": {},
     "output_type": "execute_result"
    }
   ],
   "source": [
    "halloween.isoformat()"
   ]
  },
  {
   "cell_type": "code",
   "execution_count": 21,
   "id": "9bdf6fa9",
   "metadata": {},
   "outputs": [
    {
     "data": {
      "text/plain": [
       "'2018-10-09'"
      ]
     },
     "execution_count": 21,
     "metadata": {},
     "output_type": "execute_result"
    }
   ],
   "source": [
    "halloween.__str__()"
   ]
  },
  {
   "cell_type": "code",
   "execution_count": 22,
   "id": "25f80449",
   "metadata": {},
   "outputs": [
    {
     "name": "stdout",
     "output_type": "stream",
     "text": [
      "2018-10-09\n"
     ]
    }
   ],
   "source": [
    "print(halloween)"
   ]
  },
  {
   "cell_type": "code",
   "execution_count": 25,
   "id": "4f9c2d50",
   "metadata": {},
   "outputs": [
    {
     "data": {
      "text/plain": [
       "(2018, 10, 9)"
      ]
     },
     "execution_count": 25,
     "metadata": {},
     "output_type": "execute_result"
    }
   ],
   "source": [
    "halloween.year , halloween.month, halloween.day"
   ]
  },
  {
   "cell_type": "code",
   "execution_count": 26,
   "id": "397f35a0",
   "metadata": {},
   "outputs": [
    {
     "data": {
      "text/plain": [
       "'2018/10/9'"
      ]
     },
     "execution_count": 26,
     "metadata": {},
     "output_type": "execute_result"
    }
   ],
   "source": [
    "f\"{halloween.year}/{halloween.month}/{halloween.day}\""
   ]
  },
  {
   "cell_type": "code",
   "execution_count": 29,
   "id": "27bed4d3",
   "metadata": {},
   "outputs": [
    {
     "data": {
      "text/plain": [
       "'今天是2021/11/26'"
      ]
     },
     "execution_count": 29,
     "metadata": {},
     "output_type": "execute_result"
    }
   ],
   "source": [
    "today = date.today()\n",
    "f\"今天是{today.year}/{today.month}/{today.day}\""
   ]
  },
  {
   "cell_type": "code",
   "execution_count": 32,
   "id": "2d4a4d5f",
   "metadata": {},
   "outputs": [
    {
     "data": {
      "text/plain": [
       "'明天是2021/11/27'"
      ]
     },
     "execution_count": 32,
     "metadata": {},
     "output_type": "execute_result"
    }
   ],
   "source": [
    "from datetime import timedelta\n",
    "oneday = timedelta(days=1)\n",
    "tomorrow = today + oneday\n",
    "f\"明天是{tomorrow.year}/{tomorrow.month}/{tomorrow.day}\""
   ]
  },
  {
   "cell_type": "code",
   "execution_count": 35,
   "id": "3d8ecb41",
   "metadata": {},
   "outputs": [
    {
     "data": {
      "text/plain": [
       "'昨天是2021/11/25'"
      ]
     },
     "execution_count": 35,
     "metadata": {},
     "output_type": "execute_result"
    }
   ],
   "source": [
    "oneday = timedelta(days=1)\n",
    "yesterday = today - oneday\n",
    "f\"昨天是{yesterday.year}/{yesterday.month}/{yesterday.day}\""
   ]
  },
  {
   "cell_type": "code",
   "execution_count": 39,
   "id": "584cc655",
   "metadata": {},
   "outputs": [
    {
     "data": {
      "text/plain": [
       "'12-24-30'"
      ]
     },
     "execution_count": 39,
     "metadata": {},
     "output_type": "execute_result"
    }
   ],
   "source": [
    "from datetime import time\n",
    "noon = time(hour=12,minute=24,second=30)\n",
    "noon.isoformat()\n",
    "f\"{noon.hour}-{noon.minute}-{noon.second}\""
   ]
  },
  {
   "cell_type": "code",
   "execution_count": null,
   "id": "cd73e596",
   "metadata": {},
   "outputs": [],
   "source": []
  }
 ],
 "metadata": {
  "kernelspec": {
   "display_name": "Python 3 (ipykernel)",
   "language": "python",
   "name": "python3"
  },
  "language_info": {
   "codemirror_mode": {
    "name": "ipython",
    "version": 3
   },
   "file_extension": ".py",
   "mimetype": "text/x-python",
   "name": "python",
   "nbconvert_exporter": "python",
   "pygments_lexer": "ipython3",
   "version": "3.8.7"
  }
 },
 "nbformat": 4,
 "nbformat_minor": 5
}
