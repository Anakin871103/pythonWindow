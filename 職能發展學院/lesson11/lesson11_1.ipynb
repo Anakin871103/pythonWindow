{
 "cells": [
  {
   "cell_type": "code",
   "execution_count": 2,
   "id": "82ad21f2",
   "metadata": {},
   "outputs": [],
   "source": [
    "fileout = open('oops.txt','wt',encoding='utf-8')\n",
    "print('建立一個檔案(2)',file=fileout)\n",
    "fileout.close()"
   ]
  },
  {
   "cell_type": "code",
   "execution_count": 3,
   "id": "7bd47d38",
   "metadata": {},
   "outputs": [
    {
     "name": "stdout",
     "output_type": "stream",
     "text": [
      "True\n"
     ]
    }
   ],
   "source": [
    "#使用exist()檢查檔案是否存在\n",
    "import os\n",
    "print(os.path.exists('oops.txt'))"
   ]
  },
  {
   "cell_type": "code",
   "execution_count": 4,
   "id": "c59a9a92",
   "metadata": {},
   "outputs": [
    {
     "name": "stdout",
     "output_type": "stream",
     "text": [
      "True\n"
     ]
    }
   ],
   "source": [
    "print(os.path.exists('./oops.txt'))"
   ]
  },
  {
   "cell_type": "code",
   "execution_count": 5,
   "id": "42cbb591",
   "metadata": {},
   "outputs": [
    {
     "data": {
      "text/plain": [
       "False"
      ]
     },
     "execution_count": 5,
     "metadata": {},
     "output_type": "execute_result"
    }
   ],
   "source": [
    "os.path.exists('hello.txt')"
   ]
  },
  {
   "cell_type": "code",
   "execution_count": 9,
   "id": "67155688",
   "metadata": {},
   "outputs": [
    {
     "data": {
      "text/plain": [
       "True"
      ]
     },
     "execution_count": 9,
     "metadata": {},
     "output_type": "execute_result"
    }
   ],
   "source": [
    "#建立資料夾\n",
    "if not os.path.exists('poems'):\n",
    "    os.mkdir('poems')\n",
    "os.path.exists('poems')"
   ]
  },
  {
   "cell_type": "code",
   "execution_count": 10,
   "id": "97745e40",
   "metadata": {},
   "outputs": [],
   "source": [
    "#建立資料夾內的檔案\n",
    "if not os.path.exists('./poems/oops.txt'):\n",
    "    fileout = open('./poems/oops.txt','wt',encoding=\"utf-8\")\n",
    "    fileout.write('這是寫入到一個資料夾的內容')\n",
    "    fileout.close()"
   ]
  },
  {
   "cell_type": "code",
   "execution_count": 12,
   "id": "e1d7ce09",
   "metadata": {},
   "outputs": [
    {
     "data": {
      "text/plain": [
       "'/Users/roberthsu2003/Documents/GitHub/pythonWindow/職能發展學院/lesson11/poems/oops.txt'"
      ]
     },
     "execution_count": 12,
     "metadata": {},
     "output_type": "execute_result"
    }
   ],
   "source": [
    "#檢查檔案的絕對路徑\n",
    "os.path.abspath('./poems/oops.txt')"
   ]
  },
  {
   "cell_type": "code",
   "execution_count": 15,
   "id": "e52b6bcf",
   "metadata": {},
   "outputs": [
    {
     "data": {
      "text/plain": [
       "'oops.txt'"
      ]
     },
     "execution_count": 15,
     "metadata": {},
     "output_type": "execute_result"
    }
   ],
   "source": [
    "os.path.basename('./poems/oops.txt')"
   ]
  },
  {
   "cell_type": "code",
   "execution_count": 16,
   "id": "ddd0b66b",
   "metadata": {},
   "outputs": [
    {
     "data": {
      "text/plain": [
       "'/Users/roberthsu2003/Documents/GitHub/pythonWindow/職能發展學院/lesson11'"
      ]
     },
     "execution_count": 16,
     "metadata": {},
     "output_type": "execute_result"
    }
   ],
   "source": [
    "#取得目前目錄的絕對路徑\n",
    "os.path.abspath('.')"
   ]
  },
  {
   "cell_type": "code",
   "execution_count": null,
   "id": "a0189fac",
   "metadata": {},
   "outputs": [],
   "source": [
    "#沒有目錄，無法寫檔案\n",
    "fileout = open('./poems1/oops.txt','wt',encoding=\"utf-8\")\n",
    "fileout.write('這是寫入到一個資料夾的內容')\n",
    "fileout.close()"
   ]
  },
  {
   "cell_type": "code",
   "execution_count": 18,
   "id": "1a73856b",
   "metadata": {},
   "outputs": [
    {
     "data": {
      "text/plain": [
       "datetime.date(2018, 10, 9)"
      ]
     },
     "execution_count": 18,
     "metadata": {},
     "output_type": "execute_result"
    }
   ],
   "source": [
    "from datetime import date\n",
    "halloween = date(2018,10,9)\n",
    "halloween"
   ]
  },
  {
   "cell_type": "code",
   "execution_count": 19,
   "id": "dd7877e0",
   "metadata": {},
   "outputs": [
    {
     "data": {
      "text/plain": [
       "'2018-10-09'"
      ]
     },
     "execution_count": 19,
     "metadata": {},
     "output_type": "execute_result"
    }
   ],
   "source": [
    "halloween.isoformat()"
   ]
  },
  {
   "cell_type": "code",
   "execution_count": 21,
   "id": "43d0b20f",
   "metadata": {},
   "outputs": [
    {
     "data": {
      "text/plain": [
       "'2018-10-09'"
      ]
     },
     "execution_count": 21,
     "metadata": {},
     "output_type": "execute_result"
    }
   ],
   "source": [
    "halloween.__str__()"
   ]
  },
  {
   "cell_type": "code",
   "execution_count": 22,
   "id": "52a6e1a1",
   "metadata": {},
   "outputs": [
    {
     "name": "stdout",
     "output_type": "stream",
     "text": [
      "2018-10-09\n"
     ]
    }
   ],
   "source": [
    "print(halloween)"
   ]
  },
  {
   "cell_type": "code",
   "execution_count": 25,
   "id": "accb13a4",
   "metadata": {},
   "outputs": [
    {
     "data": {
      "text/plain": [
       "(2018, 10, 9)"
      ]
     },
     "execution_count": 25,
     "metadata": {},
     "output_type": "execute_result"
    }
   ],
   "source": [
    "halloween.year , halloween.month, halloween.day"
   ]
  },
  {
   "cell_type": "code",
   "execution_count": 26,
   "id": "c4613ad2",
   "metadata": {},
   "outputs": [
    {
     "data": {
      "text/plain": [
       "'2018/10/9'"
      ]
     },
     "execution_count": 26,
     "metadata": {},
     "output_type": "execute_result"
    }
   ],
   "source": [
    "f\"{halloween.year}/{halloween.month}/{halloween.day}\""
   ]
  },
  {
   "cell_type": "code",
   "execution_count": 29,
   "id": "a8663e29",
   "metadata": {},
   "outputs": [
    {
     "data": {
      "text/plain": [
       "'今天是2021/11/26'"
      ]
     },
     "execution_count": 29,
     "metadata": {},
     "output_type": "execute_result"
    }
   ],
   "source": [
    "today = date.today()\n",
    "f\"今天是{today.year}/{today.month}/{today.day}\""
   ]
  },
  {
   "cell_type": "code",
   "execution_count": 32,
   "id": "ff75fe3a",
   "metadata": {},
   "outputs": [
    {
     "data": {
      "text/plain": [
       "'明天是2021/11/27'"
      ]
     },
     "execution_count": 32,
     "metadata": {},
     "output_type": "execute_result"
    }
   ],
   "source": [
    "from datetime import timedelta\n",
    "oneday = timedelta(days=1)\n",
    "tomorrow = today + oneday\n",
    "f\"明天是{tomorrow.year}/{tomorrow.month}/{tomorrow.day}\""
   ]
  },
  {
   "cell_type": "code",
   "execution_count": null,
   "id": "acda2f39",
   "metadata": {},
   "outputs": [],
   "source": []
  }
 ],
 "metadata": {
  "kernelspec": {
   "display_name": "Python 3 (ipykernel)",
   "language": "python",
   "name": "python3"
  },
  "language_info": {
   "codemirror_mode": {
    "name": "ipython",
    "version": 3
   },
   "file_extension": ".py",
   "mimetype": "text/x-python",
   "name": "python",
   "nbconvert_exporter": "python",
   "pygments_lexer": "ipython3",
   "version": "3.8.7"
  }
 },
 "nbformat": 4,
 "nbformat_minor": 5
}
