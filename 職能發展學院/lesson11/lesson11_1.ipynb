{
 "cells": [
  {
   "cell_type": "code",
   "execution_count": 2,
   "id": "82ad21f2",
   "metadata": {},
   "outputs": [],
   "source": [
    "fileout = open('oops.txt','wt',encoding='utf-8')\n",
    "print('建立一個檔案(2)',file=fileout)\n",
    "fileout.close()"
   ]
  },
  {
   "cell_type": "code",
   "execution_count": 3,
   "id": "91554e4c",
   "metadata": {},
   "outputs": [
    {
     "name": "stdout",
     "output_type": "stream",
     "text": [
      "True\n"
     ]
    }
   ],
   "source": [
    "#使用exist()檢查檔案是否存在\n",
    "import os\n",
    "print(os.path.exists('oops.txt'))"
   ]
  },
  {
   "cell_type": "code",
   "execution_count": 4,
   "id": "197e45ca",
   "metadata": {},
   "outputs": [
    {
     "name": "stdout",
     "output_type": "stream",
     "text": [
      "True\n"
     ]
    }
   ],
   "source": [
    "print(os.path.exists('./oops.txt'))"
   ]
  },
  {
   "cell_type": "code",
   "execution_count": 5,
   "id": "3d7aa6ad",
   "metadata": {},
   "outputs": [
    {
     "data": {
      "text/plain": [
       "False"
      ]
     },
     "execution_count": 5,
     "metadata": {},
     "output_type": "execute_result"
    }
   ],
   "source": [
    "os.path.exists('hello.txt')"
   ]
  },
  {
   "cell_type": "code",
   "execution_count": 9,
   "id": "97a6bec1",
   "metadata": {},
   "outputs": [
    {
     "data": {
      "text/plain": [
       "True"
      ]
     },
     "execution_count": 9,
     "metadata": {},
     "output_type": "execute_result"
    }
   ],
   "source": [
    "#建立資料夾\n",
    "if not os.path.exists('poems'):\n",
    "    os.mkdir('poems')\n",
    "os.path.exists('poems')"
   ]
  },
  {
   "cell_type": "code",
   "execution_count": 10,
   "id": "ba1f2f05",
   "metadata": {},
   "outputs": [],
   "source": [
    "#建立資料夾內的檔案\n",
    "if not os.path.exists('./poems/oops.txt'):\n",
    "    fileout = open('./poems/oops.txt','wt',encoding=\"utf-8\")\n",
    "    fileout.write('這是寫入到一個資料夾的內容')\n",
    "    fileout.close()"
   ]
  },
  {
   "cell_type": "code",
   "execution_count": null,
   "id": "3a8213a3",
   "metadata": {},
   "outputs": [],
   "source": []
  }
 ],
 "metadata": {
  "kernelspec": {
   "display_name": "Python 3 (ipykernel)",
   "language": "python",
   "name": "python3"
  },
  "language_info": {
   "codemirror_mode": {
    "name": "ipython",
    "version": 3
   },
   "file_extension": ".py",
   "mimetype": "text/x-python",
   "name": "python",
   "nbconvert_exporter": "python",
   "pygments_lexer": "ipython3",
   "version": "3.8.7"
  }
 },
 "nbformat": 4,
 "nbformat_minor": 5
}
