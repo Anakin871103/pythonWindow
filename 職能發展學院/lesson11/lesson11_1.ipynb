{
 "cells": [
  {
   "cell_type": "code",
   "execution_count": 2,
   "id": "82ad21f2",
   "metadata": {},
   "outputs": [],
   "source": [
    "fileout = open('oops.txt','wt',encoding='utf-8')\n",
    "print('建立一個檔案(2)',file=fileout)\n",
    "fileout.close()"
   ]
  },
  {
   "cell_type": "code",
   "execution_count": 3,
   "id": "a96a1d56",
   "metadata": {},
   "outputs": [
    {
     "name": "stdout",
     "output_type": "stream",
     "text": [
      "True\n"
     ]
    }
   ],
   "source": [
    "#使用exist()檢查檔案是否存在\n",
    "import os\n",
    "print(os.path.exists('oops.txt'))"
   ]
  },
  {
   "cell_type": "code",
   "execution_count": 4,
   "id": "6e0db493",
   "metadata": {},
   "outputs": [
    {
     "name": "stdout",
     "output_type": "stream",
     "text": [
      "True\n"
     ]
    }
   ],
   "source": [
    "print(os.path.exists('./oops.txt'))"
   ]
  },
  {
   "cell_type": "code",
   "execution_count": 5,
   "id": "8aa187db",
   "metadata": {},
   "outputs": [
    {
     "data": {
      "text/plain": [
       "False"
      ]
     },
     "execution_count": 5,
     "metadata": {},
     "output_type": "execute_result"
    }
   ],
   "source": [
    "os.path.exists('hello.txt')"
   ]
  },
  {
   "cell_type": "code",
   "execution_count": 9,
   "id": "708588a9",
   "metadata": {},
   "outputs": [
    {
     "data": {
      "text/plain": [
       "True"
      ]
     },
     "execution_count": 9,
     "metadata": {},
     "output_type": "execute_result"
    }
   ],
   "source": [
    "#建立資料夾\n",
    "if not os.path.exists('poems'):\n",
    "    os.mkdir('poems')\n",
    "os.path.exists('poems')"
   ]
  },
  {
   "cell_type": "code",
   "execution_count": 10,
   "id": "857a62d7",
   "metadata": {},
   "outputs": [],
   "source": [
    "#建立資料夾內的檔案\n",
    "if not os.path.exists('./poems/oops.txt'):\n",
    "    fileout = open('./poems/oops.txt','wt',encoding=\"utf-8\")\n",
    "    fileout.write('這是寫入到一個資料夾的內容')\n",
    "    fileout.close()"
   ]
  },
  {
   "cell_type": "code",
   "execution_count": 12,
   "id": "365ba348",
   "metadata": {},
   "outputs": [
    {
     "data": {
      "text/plain": [
       "'/Users/roberthsu2003/Documents/GitHub/pythonWindow/職能發展學院/lesson11/poems/oops.txt'"
      ]
     },
     "execution_count": 12,
     "metadata": {},
     "output_type": "execute_result"
    }
   ],
   "source": [
    "#檢查檔案的絕對路徑\n",
    "os.path.abspath('./poems/oops.txt')"
   ]
  },
  {
   "cell_type": "code",
   "execution_count": 15,
   "id": "0b8b27c9",
   "metadata": {},
   "outputs": [
    {
     "data": {
      "text/plain": [
       "'oops.txt'"
      ]
     },
     "execution_count": 15,
     "metadata": {},
     "output_type": "execute_result"
    }
   ],
   "source": [
    "os.path.basename('./poems/oops.txt')"
   ]
  },
  {
   "cell_type": "code",
   "execution_count": 16,
   "id": "1ff78c29",
   "metadata": {},
   "outputs": [
    {
     "data": {
      "text/plain": [
       "'/Users/roberthsu2003/Documents/GitHub/pythonWindow/職能發展學院/lesson11'"
      ]
     },
     "execution_count": 16,
     "metadata": {},
     "output_type": "execute_result"
    }
   ],
   "source": [
    "#取得目前目錄的絕對路徑\n",
    "os.path.abspath('.')"
   ]
  },
  {
   "cell_type": "code",
   "execution_count": null,
   "id": "e6d6a7ee",
   "metadata": {},
   "outputs": [],
   "source": [
    "#沒有目錄，無法寫檔案\n",
    "fileout = open('./poems1/oops.txt','wt',encoding=\"utf-8\")\n",
    "fileout.write('這是寫入到一個資料夾的內容')\n",
    "fileout.close()"
   ]
  },
  {
   "cell_type": "code",
   "execution_count": 18,
   "id": "aa3f2103",
   "metadata": {},
   "outputs": [
    {
     "data": {
      "text/plain": [
       "datetime.date(2018, 10, 9)"
      ]
     },
     "execution_count": 18,
     "metadata": {},
     "output_type": "execute_result"
    }
   ],
   "source": [
    "from datetime import date\n",
    "halloween = date(2018,10,9)\n",
    "halloween"
   ]
  },
  {
   "cell_type": "code",
   "execution_count": 19,
   "id": "e95fe645",
   "metadata": {},
   "outputs": [
    {
     "data": {
      "text/plain": [
       "'2018-10-09'"
      ]
     },
     "execution_count": 19,
     "metadata": {},
     "output_type": "execute_result"
    }
   ],
   "source": [
    "halloween.isoformat()"
   ]
  },
  {
   "cell_type": "code",
   "execution_count": 21,
   "id": "bb2e70c2",
   "metadata": {},
   "outputs": [
    {
     "data": {
      "text/plain": [
       "'2018-10-09'"
      ]
     },
     "execution_count": 21,
     "metadata": {},
     "output_type": "execute_result"
    }
   ],
   "source": [
    "halloween.__str__()"
   ]
  },
  {
   "cell_type": "code",
   "execution_count": 22,
   "id": "e3f888f4",
   "metadata": {},
   "outputs": [
    {
     "name": "stdout",
     "output_type": "stream",
     "text": [
      "2018-10-09\n"
     ]
    }
   ],
   "source": [
    "print(halloween)"
   ]
  },
  {
   "cell_type": "code",
   "execution_count": 25,
   "id": "95fd77ef",
   "metadata": {},
   "outputs": [
    {
     "data": {
      "text/plain": [
       "(2018, 10, 9)"
      ]
     },
     "execution_count": 25,
     "metadata": {},
     "output_type": "execute_result"
    }
   ],
   "source": [
    "halloween.year , halloween.month, halloween.day"
   ]
  },
  {
   "cell_type": "code",
   "execution_count": 26,
   "id": "392f4861",
   "metadata": {},
   "outputs": [
    {
     "data": {
      "text/plain": [
       "'2018/10/9'"
      ]
     },
     "execution_count": 26,
     "metadata": {},
     "output_type": "execute_result"
    }
   ],
   "source": [
    "f\"{halloween.year}/{halloween.month}/{halloween.day}\""
   ]
  },
  {
   "cell_type": "code",
   "execution_count": 29,
   "id": "5614d43c",
   "metadata": {},
   "outputs": [
    {
     "data": {
      "text/plain": [
       "'今天是2021/11/26'"
      ]
     },
     "execution_count": 29,
     "metadata": {},
     "output_type": "execute_result"
    }
   ],
   "source": [
    "today = date.today()\n",
    "f\"今天是{today.year}/{today.month}/{today.day}\""
   ]
  },
  {
   "cell_type": "code",
   "execution_count": 32,
   "id": "8548a2f6",
   "metadata": {},
   "outputs": [
    {
     "data": {
      "text/plain": [
       "'明天是2021/11/27'"
      ]
     },
     "execution_count": 32,
     "metadata": {},
     "output_type": "execute_result"
    }
   ],
   "source": [
    "from datetime import timedelta\n",
    "oneday = timedelta(days=1)\n",
    "tomorrow = today + oneday\n",
    "f\"明天是{tomorrow.year}/{tomorrow.month}/{tomorrow.day}\""
   ]
  },
  {
   "cell_type": "code",
   "execution_count": 35,
   "id": "869515a8",
   "metadata": {},
   "outputs": [
    {
     "data": {
      "text/plain": [
       "'昨天是2021/11/25'"
      ]
     },
     "execution_count": 35,
     "metadata": {},
     "output_type": "execute_result"
    }
   ],
   "source": [
    "oneday = timedelta(days=1)\n",
    "yesterday = today - oneday\n",
    "f\"昨天是{yesterday.year}/{yesterday.month}/{yesterday.day}\""
   ]
  },
  {
   "cell_type": "code",
   "execution_count": 39,
   "id": "af4f1966",
   "metadata": {},
   "outputs": [
    {
     "data": {
      "text/plain": [
       "'12-24-30'"
      ]
     },
     "execution_count": 39,
     "metadata": {},
     "output_type": "execute_result"
    }
   ],
   "source": [
    "from datetime import time\n",
    "noon = time(hour=12,minute=24,second=30)\n",
    "noon.isoformat()\n",
    "f\"{noon.hour}-{noon.minute}-{noon.second}\""
   ]
  },
  {
   "cell_type": "code",
   "execution_count": 40,
   "id": "9e05d21a",
   "metadata": {},
   "outputs": [
    {
     "data": {
      "text/plain": [
       "'2021-11-10T12:30:50'"
      ]
     },
     "execution_count": 40,
     "metadata": {},
     "output_type": "execute_result"
    }
   ],
   "source": [
    "from datetime import datetime\n",
    "some_day = datetime(2021,11,10,12,30,50)\n",
    "some_day.isoformat()"
   ]
  },
  {
   "cell_type": "code",
   "execution_count": 41,
   "id": "6e77d507",
   "metadata": {},
   "outputs": [
    {
     "data": {
      "text/plain": [
       "(2021, 11, 10, 12, 30, 50)"
      ]
     },
     "execution_count": 41,
     "metadata": {},
     "output_type": "execute_result"
    }
   ],
   "source": [
    "some_day.year, some_day.month, some_day.day, some_day.hour, some_day.minute, some_day.second"
   ]
  },
  {
   "cell_type": "code",
   "execution_count": 42,
   "id": "f81ba3ec",
   "metadata": {},
   "outputs": [
    {
     "data": {
      "text/plain": [
       "datetime.datetime(2021, 11, 26, 9, 54, 21, 562080)"
      ]
     },
     "execution_count": 42,
     "metadata": {},
     "output_type": "execute_result"
    }
   ],
   "source": [
    "now=datetime.now()\n",
    "now"
   ]
  },
  {
   "cell_type": "code",
   "execution_count": 43,
   "id": "02bb56e4",
   "metadata": {},
   "outputs": [
    {
     "data": {
      "text/plain": [
       "'2021-11-26T09:54:21.562080'"
      ]
     },
     "execution_count": 43,
     "metadata": {},
     "output_type": "execute_result"
    }
   ],
   "source": [
    "now.isoformat()"
   ]
  },
  {
   "cell_type": "code",
   "execution_count": 44,
   "id": "d6d4849e",
   "metadata": {},
   "outputs": [
    {
     "data": {
      "text/plain": [
       "1637892107.0551622"
      ]
     },
     "execution_count": 44,
     "metadata": {},
     "output_type": "execute_result"
    }
   ],
   "source": [
    "#有關於time module\n",
    "import time\n",
    "now = time.time()\n",
    "now"
   ]
  },
  {
   "cell_type": "code",
   "execution_count": 45,
   "id": "00ea058c",
   "metadata": {},
   "outputs": [
    {
     "data": {
      "text/plain": [
       "'Fri Nov 26 10:01:47 2021'"
      ]
     },
     "execution_count": 45,
     "metadata": {},
     "output_type": "execute_result"
    }
   ],
   "source": [
    "time.ctime(now)"
   ]
  },
  {
   "cell_type": "code",
   "execution_count": 49,
   "id": "e53a57d3",
   "metadata": {},
   "outputs": [
    {
     "data": {
      "text/plain": [
       "'2021-11-26 10:08:22'"
      ]
     },
     "execution_count": 49,
     "metadata": {},
     "output_type": "execute_result"
    }
   ],
   "source": [
    "time.strftime(\"%Y-%m-%d %H:%M:%S\",time.localtime())"
   ]
  },
  {
   "cell_type": "code",
   "execution_count": 50,
   "id": "a96fe9d3",
   "metadata": {},
   "outputs": [
    {
     "data": {
      "text/plain": [
       "'2021-11-26 02:08:34'"
      ]
     },
     "execution_count": 50,
     "metadata": {},
     "output_type": "execute_result"
    }
   ],
   "source": [
    "time.strftime(\"%Y-%m-%d %H:%M:%S\",time.gmtime())"
   ]
  },
  {
   "cell_type": "code",
   "execution_count": 60,
   "id": "06514706",
   "metadata": {},
   "outputs": [
    {
     "data": {
      "text/plain": [
       "time.struct_time(tm_year=2021, tm_mon=8, tm_mday=15, tm_hour=12, tm_min=30, tm_sec=52, tm_wday=6, tm_yday=227, tm_isdst=-1)"
      ]
     },
     "execution_count": 60,
     "metadata": {},
     "output_type": "execute_result"
    }
   ],
   "source": [
    "#字串轉換為時間\n",
    "#使用time module\n",
    "import time\n",
    "some_date = \"2021-08-15 12:30:52\"\n",
    "structTime = time.strptime(some_date,'%Y-%m-%d %H:%M:%S')\n",
    "structTime"
   ]
  },
  {
   "cell_type": "code",
   "execution_count": 59,
   "id": "63ccd251",
   "metadata": {},
   "outputs": [
    {
     "data": {
      "text/plain": [
       "2021"
      ]
     },
     "execution_count": 59,
     "metadata": {},
     "output_type": "execute_result"
    }
   ],
   "source": [
    "structTime.tm_year"
   ]
  },
  {
   "cell_type": "code",
   "execution_count": 61,
   "id": "5f9051e2",
   "metadata": {},
   "outputs": [
    {
     "data": {
      "text/plain": [
       "'12:30:52 -- 2021/08/15'"
      ]
     },
     "execution_count": 61,
     "metadata": {},
     "output_type": "execute_result"
    }
   ],
   "source": [
    "#將structTime轉成指定字串的格式\n",
    "time.strftime(\"%H:%M:%S -- %Y/%m/%d\",structTime)"
   ]
  },
  {
   "cell_type": "code",
   "execution_count": null,
   "id": "9593230d",
   "metadata": {},
   "outputs": [],
   "source": []
  }
 ],
 "metadata": {
  "kernelspec": {
   "display_name": "Python 3 (ipykernel)",
   "language": "python",
   "name": "python3"
  },
  "language_info": {
   "codemirror_mode": {
    "name": "ipython",
    "version": 3
   },
   "file_extension": ".py",
   "mimetype": "text/x-python",
   "name": "python",
   "nbconvert_exporter": "python",
   "pygments_lexer": "ipython3",
   "version": "3.8.7"
  }
 },
 "nbformat": 4,
 "nbformat_minor": 5
}
