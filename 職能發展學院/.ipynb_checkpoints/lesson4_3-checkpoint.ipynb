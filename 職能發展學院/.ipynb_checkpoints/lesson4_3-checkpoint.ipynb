{
 "cells": [
  {
   "cell_type": "code",
   "execution_count": null,
   "id": "dea4a950",
   "metadata": {},
   "outputs": [],
   "source": [
    "import requests\n",
    "url = \"https://movies.yahoo.com.tw/movie_thisweek.html\"\n",
    "response = requests.get(url)\n",
    "if response.status_code == 200:\n",
    "    print(\"下載成功\")\n",
    "    print(response.text)"
   ]
  },
  {
   "cell_type": "code",
   "execution_count": 16,
   "id": "bd3b6f8f",
   "metadata": {},
   "outputs": [
    {
     "name": "stdout",
     "output_type": "stream",
     "text": [
      "侏羅紀世界：統霸天下\n",
      "露草\n",
      "我的夏日大戀習\n",
      "餘命10年\n",
      "黎巴嫩的天空\n",
      "熟女解放中\n"
     ]
    }
   ],
   "source": [
    "from bs4 import BeautifulSoup\n",
    "soup = BeautifulSoup(response.text,'html.parser')\n",
    "ulTag = soup.find(name='ul',class_='release_list')\n",
    "for liTag in ulTag.find_all('li'):\n",
    "    titleStr = liTag.find(name='a',class_='gabtn')['data-ga']\n",
    "    titleStr = titleStr.strip('[]')\n",
    "    print(titleStr.split(',')[2].strip(\"'\"))\n",
    "    "
   ]
  },
  {
   "cell_type": "code",
   "execution_count": null,
   "id": "dcf4b434",
   "metadata": {},
   "outputs": [],
   "source": []
  }
 ],
 "metadata": {
  "kernelspec": {
   "display_name": "Python 3 (ipykernel)",
   "language": "python",
   "name": "python3"
  },
  "language_info": {
   "codemirror_mode": {
    "name": "ipython",
    "version": 3
   },
   "file_extension": ".py",
   "mimetype": "text/x-python",
   "name": "python",
   "nbconvert_exporter": "python",
   "pygments_lexer": "ipython3",
   "version": "3.10.2"
  }
 },
 "nbformat": 4,
 "nbformat_minor": 5
}
