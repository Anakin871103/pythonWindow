{
 "cells": [
  {
   "cell_type": "code",
   "execution_count": null,
   "id": "dfdec3a5",
   "metadata": {},
   "outputs": [],
   "source": [
    "import requests\n",
    "url = \"https://movies.yahoo.com.tw/movie_thisweek.html\"\n",
    "response = requests.get(url)\n",
    "if response.status_code == 200:\n",
    "    print(\"下載成功\")\n",
    "    print(response.text)"
   ]
  },
  {
   "cell_type": "code",
   "execution_count": 17,
   "id": "d21dcd20",
   "metadata": {},
   "outputs": [
    {
     "name": "stdout",
     "output_type": "stream",
     "text": [
      "侏羅紀世界：統霸天下\n",
      "露草\n",
      "我的夏日大戀習\n",
      "餘命10年\n",
      "黎巴嫩的天空\n",
      "熟女解放中\n"
     ]
    }
   ],
   "source": [
    "from bs4 import BeautifulSoup\n",
    "soup = BeautifulSoup(response.text,'html.parser')\n",
    "ulTag = soup.find(name='ul',class_='release_list')\n",
    "for liTag in ulTag.find_all('li'):\n",
    "    titleStr = liTag.a['data-ga']\n",
    "    titleStr = titleStr.strip('[]')\n",
    "    print(titleStr.split(',')[2].strip(\"'\"))\n",
    "    "
   ]
  },
  {
   "cell_type": "code",
   "execution_count": 29,
   "id": "162aa77f",
   "metadata": {},
   "outputs": [
    {
     "name": "stdout",
     "output_type": "stream",
     "text": [
      "<a class=\"gabtn\" data-ga=\"['本週新片','本週新片_本週新片第1頁','侏羅紀世界：統霸天下']\" href=\"https://movies.yahoo.com.tw/movieinfo_main/%E4%BE%8F%E7%BE%85%E7%B4%80%E4%B8%96%E7%95%8C-%E7%B5%B1%E9%9C%B8%E5%A4%A9%E4%B8%8B-jurassic-world-dominion-11809\">\n",
      "<div class=\"type_label movie\">院線電影</div>\n",
      "<img alt=\"\" class=\"lazy-load\" data-src=\"https://movies.yahoo.com.tw/x/r/w420/i/o/production/movies/April2022/3YlWZrhHyJ303TaWbMoE-1080x1711.jpg\"/>\n",
      "</a>\n",
      "<a class=\"gabtn\" data-ga=\"['本週新片','本週新片_本週新片第1頁','露草']\" href=\"https://movies.yahoo.com.tw/movieinfo_main/%E9%9C%B2%E8%8D%89-tsuyukusa-12799\">\n",
      "<div class=\"type_label movie\">院線電影</div>\n",
      "<img alt=\"\" class=\"lazy-load\" data-src=\"https://movies.yahoo.com.tw/x/r/w420/i/o/production/movies/March2022/uammKdP3vxys9UOC0PPC-737x1077.jpg\"/>\n",
      "</a>\n",
      "<a class=\"gabtn\" data-ga=\"['本週新片','本週新片_本週新片第1頁','我的夏日大戀習']\" href=\"https://movies.yahoo.com.tw/movieinfo_main/%E6%88%91%E7%9A%84%E5%A4%8F%E6%97%A5%E5%A4%A7%E6%88%80%E7%BF%92-one-summer-story-12981\">\n",
      "<div class=\"type_label movie\">院線電影</div>\n",
      "<img alt=\"\" class=\"lazy-load\" data-src=\"https://movies.yahoo.com.tw/x/r/w420/i/o/production/movies/May2022/m0xCqOM4PtkSZdhf9ILI-1080x1543.jpg\"/>\n",
      "</a>\n",
      "<a class=\"gabtn\" data-ga=\"['本週新片','本週新片_本週新片第1頁','餘命10年']\" href=\"https://movies.yahoo.com.tw/movieinfo_main/%E9%A4%98%E5%91%BD10%E5%B9%B4-the-last-10-years-13232\">\n",
      "<div class=\"type_label movie\">院線電影</div>\n",
      "<img alt=\"\" class=\"lazy-load\" data-src=\"https://movies.yahoo.com.tw/x/r/w420/i/o/production/movies/May2022/yM1FhvrguPsUg3YhPiF6-1080x1542.jpg\"/>\n",
      "</a>\n",
      "<a class=\"gabtn\" data-ga=\"['本週新片','本週新片_本週新片第1頁','黎巴嫩的天空']\" href=\"https://movies.yahoo.com.tw/movieinfo_main/%E9%BB%8E%E5%B7%B4%E5%AB%A9%E7%9A%84%E5%A4%A9%E7%A9%BA-1982-13283\">\n",
      "<div class=\"type_label movie\">院線電影</div>\n",
      "<img alt=\"\" class=\"lazy-load\" data-src=\"https://movies.yahoo.com.tw/x/r/w420/i/o/production/movies/May2022/Z8iDlKYWdnHjlhej07Rq-1080x1541.jpg\"/>\n",
      "</a>\n",
      "<a class=\"gabtn\" data-ga=\"['本週新片','本週新片_本週新片第1頁','熟女解放中']\" href=\"https://movies.yahoo.com.tw/movieinfo_main/%E7%86%9F%E5%A5%B3%E8%A7%A3%E6%94%BE%E4%B8%AD-the-book-of-delights-13363\">\n",
      "<div class=\"type_label movie\">院線電影</div>\n",
      "<img alt=\"\" class=\"lazy-load\" data-src=\"https://movies.yahoo.com.tw/x/r/w420/i/o/production/movies/May2022/e5kk8HmBvptUQDfgbWda-1080x1543.jpg\"/>\n",
      "</a>\n"
     ]
    }
   ],
   "source": [
    "from bs4 import BeautifulSoup\n",
    "soup = BeautifulSoup(response.text,'html.parser')\n",
    "ulTag = soup.find(name='ul',class_='release_list')\n",
    "for liTag in ulTag.find_all('li'):\n",
    "    tagA = liTag.a\n",
    "    print(tagA)"
   ]
  },
  {
   "cell_type": "code",
   "execution_count": null,
   "id": "391aeca8",
   "metadata": {},
   "outputs": [],
   "source": []
  }
 ],
 "metadata": {
  "kernelspec": {
   "display_name": "Python 3 (ipykernel)",
   "language": "python",
   "name": "python3"
  },
  "language_info": {
   "codemirror_mode": {
    "name": "ipython",
    "version": 3
   },
   "file_extension": ".py",
   "mimetype": "text/x-python",
   "name": "python",
   "nbconvert_exporter": "python",
   "pygments_lexer": "ipython3",
   "version": "3.10.2"
  }
 },
 "nbformat": 4,
 "nbformat_minor": 5
}
